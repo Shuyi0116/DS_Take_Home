{
 "cells": [
  {
   "cell_type": "markdown",
   "metadata": {},
   "source": [
    "## Goal: Predict employee retention and understand its main drivers"
   ]
  },
  {
   "cell_type": "code",
   "execution_count": 1,
   "metadata": {
    "collapsed": true
   },
   "outputs": [],
   "source": [
    "%matplotlib inline\n",
    "import pandas as pd\n",
    "import numpy as np\n",
    "import seaborn as sns\n",
    "import matplotlib.pyplot as plt"
   ]
  },
  {
   "cell_type": "markdown",
   "metadata": {},
   "source": [
    "### Download Dateset"
   ]
  },
  {
   "cell_type": "code",
   "execution_count": 2,
   "metadata": {
    "collapsed": true
   },
   "outputs": [],
   "source": [
    "path = '/Users/shuyijiang1/Documents/DS Take Home/take home challenges/Employee Retention/employee_retention_data.csv'\n",
    "\n",
    "with open(path, 'r') as file:\n",
    "    df_origin = pd.read_csv(file)"
   ]
  },
  {
   "cell_type": "code",
   "execution_count": 3,
   "metadata": {
    "collapsed": false
   },
   "outputs": [
    {
     "data": {
      "text/html": [
       "<div>\n",
       "<table border=\"1\" class=\"dataframe\">\n",
       "  <thead>\n",
       "    <tr style=\"text-align: right;\">\n",
       "      <th></th>\n",
       "      <th>employee_id</th>\n",
       "      <th>company_id</th>\n",
       "      <th>dept</th>\n",
       "      <th>seniority</th>\n",
       "      <th>salary</th>\n",
       "      <th>join_date</th>\n",
       "      <th>quit_date</th>\n",
       "    </tr>\n",
       "  </thead>\n",
       "  <tbody>\n",
       "    <tr>\n",
       "      <th>0</th>\n",
       "      <td>13021</td>\n",
       "      <td>7</td>\n",
       "      <td>customer_service</td>\n",
       "      <td>28</td>\n",
       "      <td>89000</td>\n",
       "      <td>2014-03-24</td>\n",
       "      <td>2015-10-30</td>\n",
       "    </tr>\n",
       "    <tr>\n",
       "      <th>1</th>\n",
       "      <td>825355</td>\n",
       "      <td>7</td>\n",
       "      <td>marketing</td>\n",
       "      <td>20</td>\n",
       "      <td>183000</td>\n",
       "      <td>2013-04-29</td>\n",
       "      <td>2014-04-04</td>\n",
       "    </tr>\n",
       "    <tr>\n",
       "      <th>2</th>\n",
       "      <td>927315</td>\n",
       "      <td>4</td>\n",
       "      <td>marketing</td>\n",
       "      <td>14</td>\n",
       "      <td>101000</td>\n",
       "      <td>2014-10-13</td>\n",
       "      <td>NaN</td>\n",
       "    </tr>\n",
       "    <tr>\n",
       "      <th>3</th>\n",
       "      <td>662910</td>\n",
       "      <td>7</td>\n",
       "      <td>customer_service</td>\n",
       "      <td>20</td>\n",
       "      <td>115000</td>\n",
       "      <td>2012-05-14</td>\n",
       "      <td>2013-06-07</td>\n",
       "    </tr>\n",
       "    <tr>\n",
       "      <th>4</th>\n",
       "      <td>256971</td>\n",
       "      <td>2</td>\n",
       "      <td>data_science</td>\n",
       "      <td>23</td>\n",
       "      <td>276000</td>\n",
       "      <td>2011-10-17</td>\n",
       "      <td>2014-08-22</td>\n",
       "    </tr>\n",
       "  </tbody>\n",
       "</table>\n",
       "</div>"
      ],
      "text/plain": [
       "   employee_id  company_id              dept  seniority  salary   join_date  \\\n",
       "0        13021           7  customer_service         28   89000  2014-03-24   \n",
       "1       825355           7         marketing         20  183000  2013-04-29   \n",
       "2       927315           4         marketing         14  101000  2014-10-13   \n",
       "3       662910           7  customer_service         20  115000  2012-05-14   \n",
       "4       256971           2      data_science         23  276000  2011-10-17   \n",
       "\n",
       "    quit_date  \n",
       "0  2015-10-30  \n",
       "1  2014-04-04  \n",
       "2         NaN  \n",
       "3  2013-06-07  \n",
       "4  2014-08-22  "
      ]
     },
     "execution_count": 3,
     "metadata": {},
     "output_type": "execute_result"
    }
   ],
   "source": [
    "df_origin.head()"
   ]
  },
  {
   "cell_type": "code",
   "execution_count": 4,
   "metadata": {
    "collapsed": false
   },
   "outputs": [
    {
     "name": "stdout",
     "output_type": "stream",
     "text": [
      "<class 'pandas.core.frame.DataFrame'>\n",
      "Int64Index: 24702 entries, 0 to 24701\n",
      "Data columns (total 7 columns):\n",
      "employee_id    24702 non-null float64\n",
      "company_id     24702 non-null int64\n",
      "dept           24702 non-null object\n",
      "seniority      24702 non-null int64\n",
      "salary         24702 non-null float64\n",
      "join_date      24702 non-null object\n",
      "quit_date      13510 non-null object\n",
      "dtypes: float64(2), int64(2), object(3)\n",
      "memory usage: 1.5+ MB\n"
     ]
    }
   ],
   "source": [
    "df_origin.info()"
   ]
  },
  {
   "cell_type": "code",
   "execution_count": 5,
   "metadata": {
    "collapsed": false
   },
   "outputs": [
    {
     "data": {
      "text/html": [
       "<div>\n",
       "<table border=\"1\" class=\"dataframe\">\n",
       "  <thead>\n",
       "    <tr style=\"text-align: right;\">\n",
       "      <th></th>\n",
       "      <th>employee_id</th>\n",
       "      <th>company_id</th>\n",
       "      <th>seniority</th>\n",
       "      <th>salary</th>\n",
       "    </tr>\n",
       "  </thead>\n",
       "  <tbody>\n",
       "    <tr>\n",
       "      <th>count</th>\n",
       "      <td>24702.000000</td>\n",
       "      <td>24702.000000</td>\n",
       "      <td>24702.000000</td>\n",
       "      <td>24702.000000</td>\n",
       "    </tr>\n",
       "    <tr>\n",
       "      <th>mean</th>\n",
       "      <td>501604.403530</td>\n",
       "      <td>3.426969</td>\n",
       "      <td>14.127803</td>\n",
       "      <td>138183.345478</td>\n",
       "    </tr>\n",
       "    <tr>\n",
       "      <th>std</th>\n",
       "      <td>288909.026101</td>\n",
       "      <td>2.700011</td>\n",
       "      <td>8.089520</td>\n",
       "      <td>76058.184573</td>\n",
       "    </tr>\n",
       "    <tr>\n",
       "      <th>min</th>\n",
       "      <td>36.000000</td>\n",
       "      <td>1.000000</td>\n",
       "      <td>1.000000</td>\n",
       "      <td>17000.000000</td>\n",
       "    </tr>\n",
       "    <tr>\n",
       "      <th>25%</th>\n",
       "      <td>250133.750000</td>\n",
       "      <td>1.000000</td>\n",
       "      <td>7.000000</td>\n",
       "      <td>79000.000000</td>\n",
       "    </tr>\n",
       "    <tr>\n",
       "      <th>50%</th>\n",
       "      <td>500793.000000</td>\n",
       "      <td>2.000000</td>\n",
       "      <td>14.000000</td>\n",
       "      <td>123000.000000</td>\n",
       "    </tr>\n",
       "    <tr>\n",
       "      <th>75%</th>\n",
       "      <td>753137.250000</td>\n",
       "      <td>5.000000</td>\n",
       "      <td>21.000000</td>\n",
       "      <td>187000.000000</td>\n",
       "    </tr>\n",
       "    <tr>\n",
       "      <th>max</th>\n",
       "      <td>999969.000000</td>\n",
       "      <td>12.000000</td>\n",
       "      <td>99.000000</td>\n",
       "      <td>408000.000000</td>\n",
       "    </tr>\n",
       "  </tbody>\n",
       "</table>\n",
       "</div>"
      ],
      "text/plain": [
       "         employee_id    company_id     seniority         salary\n",
       "count   24702.000000  24702.000000  24702.000000   24702.000000\n",
       "mean   501604.403530      3.426969     14.127803  138183.345478\n",
       "std    288909.026101      2.700011      8.089520   76058.184573\n",
       "min        36.000000      1.000000      1.000000   17000.000000\n",
       "25%    250133.750000      1.000000      7.000000   79000.000000\n",
       "50%    500793.000000      2.000000     14.000000  123000.000000\n",
       "75%    753137.250000      5.000000     21.000000  187000.000000\n",
       "max    999969.000000     12.000000     99.000000  408000.000000"
      ]
     },
     "execution_count": 5,
     "metadata": {},
     "output_type": "execute_result"
    }
   ],
   "source": [
    "df_origin.describe()"
   ]
  },
  {
   "cell_type": "markdown",
   "metadata": {},
   "source": [
    "#### It looks like seniority has a maximum of 99 working years, let's look at the abnormal data and remove it."
   ]
  },
  {
   "cell_type": "code",
   "execution_count": 6,
   "metadata": {
    "collapsed": false
   },
   "outputs": [
    {
     "data": {
      "text/html": [
       "<div>\n",
       "<table border=\"1\" class=\"dataframe\">\n",
       "  <thead>\n",
       "    <tr style=\"text-align: right;\">\n",
       "      <th></th>\n",
       "      <th>employee_id</th>\n",
       "      <th>company_id</th>\n",
       "      <th>dept</th>\n",
       "      <th>seniority</th>\n",
       "      <th>salary</th>\n",
       "      <th>join_date</th>\n",
       "      <th>quit_date</th>\n",
       "    </tr>\n",
       "  </thead>\n",
       "  <tbody>\n",
       "    <tr>\n",
       "      <th>24701</th>\n",
       "      <td>604052</td>\n",
       "      <td>1</td>\n",
       "      <td>marketing</td>\n",
       "      <td>99</td>\n",
       "      <td>185000</td>\n",
       "      <td>2011-07-26</td>\n",
       "      <td>2013-12-06</td>\n",
       "    </tr>\n",
       "    <tr>\n",
       "      <th>24700</th>\n",
       "      <td>97289</td>\n",
       "      <td>10</td>\n",
       "      <td>engineer</td>\n",
       "      <td>98</td>\n",
       "      <td>266000</td>\n",
       "      <td>2011-12-13</td>\n",
       "      <td>2015-01-09</td>\n",
       "    </tr>\n",
       "    <tr>\n",
       "      <th>11717</th>\n",
       "      <td>426218</td>\n",
       "      <td>2</td>\n",
       "      <td>customer_service</td>\n",
       "      <td>29</td>\n",
       "      <td>118000</td>\n",
       "      <td>2011-03-02</td>\n",
       "      <td>2013-07-12</td>\n",
       "    </tr>\n",
       "    <tr>\n",
       "      <th>12013</th>\n",
       "      <td>889253</td>\n",
       "      <td>2</td>\n",
       "      <td>engineer</td>\n",
       "      <td>29</td>\n",
       "      <td>318000</td>\n",
       "      <td>2011-09-12</td>\n",
       "      <td>NaN</td>\n",
       "    </tr>\n",
       "    <tr>\n",
       "      <th>647</th>\n",
       "      <td>664204</td>\n",
       "      <td>8</td>\n",
       "      <td>marketing</td>\n",
       "      <td>29</td>\n",
       "      <td>147000</td>\n",
       "      <td>2014-02-03</td>\n",
       "      <td>2015-02-20</td>\n",
       "    </tr>\n",
       "  </tbody>\n",
       "</table>\n",
       "</div>"
      ],
      "text/plain": [
       "       employee_id  company_id              dept  seniority  salary  \\\n",
       "24701       604052           1         marketing         99  185000   \n",
       "24700        97289          10          engineer         98  266000   \n",
       "11717       426218           2  customer_service         29  118000   \n",
       "12013       889253           2          engineer         29  318000   \n",
       "647         664204           8         marketing         29  147000   \n",
       "\n",
       "        join_date   quit_date  \n",
       "24701  2011-07-26  2013-12-06  \n",
       "24700  2011-12-13  2015-01-09  \n",
       "11717  2011-03-02  2013-07-12  \n",
       "12013  2011-09-12         NaN  \n",
       "647    2014-02-03  2015-02-20  "
      ]
     },
     "execution_count": 6,
     "metadata": {},
     "output_type": "execute_result"
    }
   ],
   "source": [
    "df_origin.sort_values(by = 'seniority', ascending = False).head(5)"
   ]
  },
  {
   "cell_type": "code",
   "execution_count": 7,
   "metadata": {
    "collapsed": true
   },
   "outputs": [],
   "source": [
    "df_all = df_origin.loc[df_origin['seniority'] <= 30].copy()"
   ]
  },
  {
   "cell_type": "code",
   "execution_count": 8,
   "metadata": {
    "collapsed": false
   },
   "outputs": [],
   "source": [
    "df_all['join_date'] = pd.to_datetime(df_all['join_date'])\n",
    "df_all['quit_date'] = pd.to_datetime(df_all['quit_date'])"
   ]
  },
  {
   "cell_type": "code",
   "execution_count": 9,
   "metadata": {
    "collapsed": false
   },
   "outputs": [],
   "source": [
    "# add quit or not flag\n",
    "df_all['quit_flag'] = np.where(df_all['quit_date'].isnull(), 'N', 'Y')"
   ]
  },
  {
   "cell_type": "code",
   "execution_count": 10,
   "metadata": {
    "collapsed": false
   },
   "outputs": [],
   "source": [
    "# add working days before quitting if the employee quit\n",
    "df_all['days_before_quit'] = np.where(df_all['quit_flag'] == 'Y', (df_all['quit_date'] - df_all['join_date']), np.nan)\n",
    "\n",
    "# extract days from timedelta64 format\n",
    "df_all['days_before_quit'] = df_all['days_before_quit']/ np.timedelta64(1, 'D') "
   ]
  },
  {
   "cell_type": "code",
   "execution_count": 11,
   "metadata": {
    "collapsed": false
   },
   "outputs": [
    {
     "data": {
      "text/html": [
       "<div>\n",
       "<table border=\"1\" class=\"dataframe\">\n",
       "  <thead>\n",
       "    <tr style=\"text-align: right;\">\n",
       "      <th></th>\n",
       "      <th>employee_id</th>\n",
       "      <th>company_id</th>\n",
       "      <th>dept</th>\n",
       "      <th>seniority</th>\n",
       "      <th>salary</th>\n",
       "      <th>join_date</th>\n",
       "      <th>quit_date</th>\n",
       "      <th>quit_flag</th>\n",
       "      <th>days_before_quit</th>\n",
       "    </tr>\n",
       "  </thead>\n",
       "  <tbody>\n",
       "    <tr>\n",
       "      <th>0</th>\n",
       "      <td>13021</td>\n",
       "      <td>7</td>\n",
       "      <td>customer_service</td>\n",
       "      <td>28</td>\n",
       "      <td>89000</td>\n",
       "      <td>2014-03-24</td>\n",
       "      <td>2015-10-30</td>\n",
       "      <td>Y</td>\n",
       "      <td>585</td>\n",
       "    </tr>\n",
       "    <tr>\n",
       "      <th>1</th>\n",
       "      <td>825355</td>\n",
       "      <td>7</td>\n",
       "      <td>marketing</td>\n",
       "      <td>20</td>\n",
       "      <td>183000</td>\n",
       "      <td>2013-04-29</td>\n",
       "      <td>2014-04-04</td>\n",
       "      <td>Y</td>\n",
       "      <td>340</td>\n",
       "    </tr>\n",
       "    <tr>\n",
       "      <th>2</th>\n",
       "      <td>927315</td>\n",
       "      <td>4</td>\n",
       "      <td>marketing</td>\n",
       "      <td>14</td>\n",
       "      <td>101000</td>\n",
       "      <td>2014-10-13</td>\n",
       "      <td>NaT</td>\n",
       "      <td>N</td>\n",
       "      <td>NaN</td>\n",
       "    </tr>\n",
       "    <tr>\n",
       "      <th>3</th>\n",
       "      <td>662910</td>\n",
       "      <td>7</td>\n",
       "      <td>customer_service</td>\n",
       "      <td>20</td>\n",
       "      <td>115000</td>\n",
       "      <td>2012-05-14</td>\n",
       "      <td>2013-06-07</td>\n",
       "      <td>Y</td>\n",
       "      <td>389</td>\n",
       "    </tr>\n",
       "    <tr>\n",
       "      <th>4</th>\n",
       "      <td>256971</td>\n",
       "      <td>2</td>\n",
       "      <td>data_science</td>\n",
       "      <td>23</td>\n",
       "      <td>276000</td>\n",
       "      <td>2011-10-17</td>\n",
       "      <td>2014-08-22</td>\n",
       "      <td>Y</td>\n",
       "      <td>1040</td>\n",
       "    </tr>\n",
       "  </tbody>\n",
       "</table>\n",
       "</div>"
      ],
      "text/plain": [
       "   employee_id  company_id              dept  seniority  salary  join_date  \\\n",
       "0        13021           7  customer_service         28   89000 2014-03-24   \n",
       "1       825355           7         marketing         20  183000 2013-04-29   \n",
       "2       927315           4         marketing         14  101000 2014-10-13   \n",
       "3       662910           7  customer_service         20  115000 2012-05-14   \n",
       "4       256971           2      data_science         23  276000 2011-10-17   \n",
       "\n",
       "   quit_date quit_flag  days_before_quit  \n",
       "0 2015-10-30         Y               585  \n",
       "1 2014-04-04         Y               340  \n",
       "2        NaT         N               NaN  \n",
       "3 2013-06-07         Y               389  \n",
       "4 2014-08-22         Y              1040  "
      ]
     },
     "execution_count": 11,
     "metadata": {},
     "output_type": "execute_result"
    }
   ],
   "source": [
    "df_all.head()"
   ]
  },
  {
   "cell_type": "code",
   "execution_count": 12,
   "metadata": {
    "collapsed": false
   },
   "outputs": [
    {
     "data": {
      "text/html": [
       "<div>\n",
       "<table border=\"1\" class=\"dataframe\">\n",
       "  <thead>\n",
       "    <tr style=\"text-align: right;\">\n",
       "      <th></th>\n",
       "      <th>employee_id</th>\n",
       "      <th>company_id</th>\n",
       "      <th>seniority</th>\n",
       "      <th>salary</th>\n",
       "      <th>days_before_quit</th>\n",
       "    </tr>\n",
       "  </thead>\n",
       "  <tbody>\n",
       "    <tr>\n",
       "      <th>count</th>\n",
       "      <td>24700.000000</td>\n",
       "      <td>24700.000000</td>\n",
       "      <td>24700.000000</td>\n",
       "      <td>24700.000000</td>\n",
       "      <td>13508.000000</td>\n",
       "    </tr>\n",
       "    <tr>\n",
       "      <th>mean</th>\n",
       "      <td>501616.624899</td>\n",
       "      <td>3.426802</td>\n",
       "      <td>14.120972</td>\n",
       "      <td>138176.275304</td>\n",
       "      <td>613.430560</td>\n",
       "    </tr>\n",
       "    <tr>\n",
       "      <th>std</th>\n",
       "      <td>288908.533280</td>\n",
       "      <td>2.699752</td>\n",
       "      <td>8.054137</td>\n",
       "      <td>76056.331953</td>\n",
       "      <td>328.610626</td>\n",
       "    </tr>\n",
       "    <tr>\n",
       "      <th>min</th>\n",
       "      <td>36.000000</td>\n",
       "      <td>1.000000</td>\n",
       "      <td>1.000000</td>\n",
       "      <td>17000.000000</td>\n",
       "      <td>102.000000</td>\n",
       "    </tr>\n",
       "    <tr>\n",
       "      <th>25%</th>\n",
       "      <td>250165.250000</td>\n",
       "      <td>1.000000</td>\n",
       "      <td>7.000000</td>\n",
       "      <td>79000.000000</td>\n",
       "      <td>361.000000</td>\n",
       "    </tr>\n",
       "    <tr>\n",
       "      <th>50%</th>\n",
       "      <td>500793.000000</td>\n",
       "      <td>2.000000</td>\n",
       "      <td>14.000000</td>\n",
       "      <td>123000.000000</td>\n",
       "      <td>417.000000</td>\n",
       "    </tr>\n",
       "    <tr>\n",
       "      <th>75%</th>\n",
       "      <td>753142.250000</td>\n",
       "      <td>5.000000</td>\n",
       "      <td>21.000000</td>\n",
       "      <td>187000.000000</td>\n",
       "      <td>781.000000</td>\n",
       "    </tr>\n",
       "    <tr>\n",
       "      <th>max</th>\n",
       "      <td>999969.000000</td>\n",
       "      <td>12.000000</td>\n",
       "      <td>29.000000</td>\n",
       "      <td>408000.000000</td>\n",
       "      <td>1726.000000</td>\n",
       "    </tr>\n",
       "  </tbody>\n",
       "</table>\n",
       "</div>"
      ],
      "text/plain": [
       "         employee_id    company_id     seniority         salary  \\\n",
       "count   24700.000000  24700.000000  24700.000000   24700.000000   \n",
       "mean   501616.624899      3.426802     14.120972  138176.275304   \n",
       "std    288908.533280      2.699752      8.054137   76056.331953   \n",
       "min        36.000000      1.000000      1.000000   17000.000000   \n",
       "25%    250165.250000      1.000000      7.000000   79000.000000   \n",
       "50%    500793.000000      2.000000     14.000000  123000.000000   \n",
       "75%    753142.250000      5.000000     21.000000  187000.000000   \n",
       "max    999969.000000     12.000000     29.000000  408000.000000   \n",
       "\n",
       "       days_before_quit  \n",
       "count      13508.000000  \n",
       "mean         613.430560  \n",
       "std          328.610626  \n",
       "min          102.000000  \n",
       "25%          361.000000  \n",
       "50%          417.000000  \n",
       "75%          781.000000  \n",
       "max         1726.000000  "
      ]
     },
     "execution_count": 12,
     "metadata": {},
     "output_type": "execute_result"
    }
   ],
   "source": [
    "df_all.describe()"
   ]
  },
  {
   "cell_type": "markdown",
   "metadata": {},
   "source": [
    "## From company's perspective, create a table with day, current employees,  headcount available from 2011/01/24 to 2015/12/13."
   ]
  },
  {
   "cell_type": "code",
   "execution_count": 13,
   "metadata": {
    "collapsed": false
   },
   "outputs": [
    {
     "data": {
      "text/html": [
       "<div>\n",
       "<table border=\"1\" class=\"dataframe\">\n",
       "  <thead>\n",
       "    <tr style=\"text-align: right;\">\n",
       "      <th></th>\n",
       "      <th>employee_id</th>\n",
       "      <th>company_id</th>\n",
       "      <th>dept</th>\n",
       "      <th>seniority</th>\n",
       "      <th>salary</th>\n",
       "      <th>join_date</th>\n",
       "      <th>quit_date</th>\n",
       "      <th>quit_flag</th>\n",
       "      <th>days_before_quit</th>\n",
       "    </tr>\n",
       "  </thead>\n",
       "  <tbody>\n",
       "    <tr>\n",
       "      <th>0</th>\n",
       "      <td>13021</td>\n",
       "      <td>7</td>\n",
       "      <td>customer_service</td>\n",
       "      <td>28</td>\n",
       "      <td>89000</td>\n",
       "      <td>2014-03-24</td>\n",
       "      <td>2015-10-30</td>\n",
       "      <td>Y</td>\n",
       "      <td>585</td>\n",
       "    </tr>\n",
       "    <tr>\n",
       "      <th>1</th>\n",
       "      <td>825355</td>\n",
       "      <td>7</td>\n",
       "      <td>marketing</td>\n",
       "      <td>20</td>\n",
       "      <td>183000</td>\n",
       "      <td>2013-04-29</td>\n",
       "      <td>2014-04-04</td>\n",
       "      <td>Y</td>\n",
       "      <td>340</td>\n",
       "    </tr>\n",
       "    <tr>\n",
       "      <th>2</th>\n",
       "      <td>927315</td>\n",
       "      <td>4</td>\n",
       "      <td>marketing</td>\n",
       "      <td>14</td>\n",
       "      <td>101000</td>\n",
       "      <td>2014-10-13</td>\n",
       "      <td>NaT</td>\n",
       "      <td>N</td>\n",
       "      <td>NaN</td>\n",
       "    </tr>\n",
       "  </tbody>\n",
       "</table>\n",
       "</div>"
      ],
      "text/plain": [
       "   employee_id  company_id              dept  seniority  salary  join_date  \\\n",
       "0        13021           7  customer_service         28   89000 2014-03-24   \n",
       "1       825355           7         marketing         20  183000 2013-04-29   \n",
       "2       927315           4         marketing         14  101000 2014-10-13   \n",
       "\n",
       "   quit_date quit_flag  days_before_quit  \n",
       "0 2015-10-30         Y               585  \n",
       "1 2014-04-04         Y               340  \n",
       "2        NaT         N               NaN  "
      ]
     },
     "execution_count": 13,
     "metadata": {},
     "output_type": "execute_result"
    }
   ],
   "source": [
    "df_all.head(3)"
   ]
  },
  {
   "cell_type": "code",
   "execution_count": 14,
   "metadata": {
    "collapsed": false
   },
   "outputs": [],
   "source": [
    "date = np.unique(df_all[['join_date','quit_date']].values)\n",
    "\n",
    "company = df_all['company_id'].unique()"
   ]
  },
  {
   "cell_type": "code",
   "execution_count": 15,
   "metadata": {
    "collapsed": false
   },
   "outputs": [],
   "source": [
    "df_company = pd.DataFrame(data = company, columns = ['company']).copy()"
   ]
  },
  {
   "cell_type": "code",
   "execution_count": 16,
   "metadata": {
    "collapsed": false
   },
   "outputs": [],
   "source": [
    "df_date = pd.DataFrame(data = date, columns = ['date']).copy()\n",
    "df_date = df_date.loc[~df_date['date'].isnull()]"
   ]
  },
  {
   "cell_type": "code",
   "execution_count": 17,
   "metadata": {
    "collapsed": false
   },
   "outputs": [],
   "source": [
    "# add extra columns for outer joining\n",
    "df_company['forjoin'] = 1\n",
    "df_date['forjoin'] = 1"
   ]
  },
  {
   "cell_type": "code",
   "execution_count": 18,
   "metadata": {
    "collapsed": false
   },
   "outputs": [],
   "source": [
    "df_company = df_company.merge(df_date, how = 'outer', on = 'forjoin')"
   ]
  },
  {
   "cell_type": "code",
   "execution_count": 19,
   "metadata": {
    "collapsed": false
   },
   "outputs": [
    {
     "data": {
      "text/html": [
       "<div>\n",
       "<table border=\"1\" class=\"dataframe\">\n",
       "  <thead>\n",
       "    <tr style=\"text-align: right;\">\n",
       "      <th></th>\n",
       "      <th>company</th>\n",
       "      <th>forjoin</th>\n",
       "      <th>date</th>\n",
       "    </tr>\n",
       "  </thead>\n",
       "  <tbody>\n",
       "    <tr>\n",
       "      <th>0</th>\n",
       "      <td>7</td>\n",
       "      <td>1</td>\n",
       "      <td>2011-01-24</td>\n",
       "    </tr>\n",
       "    <tr>\n",
       "      <th>1</th>\n",
       "      <td>7</td>\n",
       "      <td>1</td>\n",
       "      <td>2011-01-25</td>\n",
       "    </tr>\n",
       "  </tbody>\n",
       "</table>\n",
       "</div>"
      ],
      "text/plain": [
       "   company  forjoin       date\n",
       "0        7        1 2011-01-24\n",
       "1        7        1 2011-01-25"
      ]
     },
     "execution_count": 19,
     "metadata": {},
     "output_type": "execute_result"
    }
   ],
   "source": [
    "df_company.head(2)"
   ]
  },
  {
   "cell_type": "markdown",
   "metadata": {},
   "source": [
    "#### Method 1: use pandasql"
   ]
  },
  {
   "cell_type": "code",
   "execution_count": 20,
   "metadata": {
    "collapsed": true
   },
   "outputs": [],
   "source": [
    "from pandasql import sqldf"
   ]
  },
  {
   "cell_type": "code",
   "execution_count": 21,
   "metadata": {
    "collapsed": true
   },
   "outputs": [],
   "source": [
    "query_base = \"\"\"\n",
    "select b.company,b.date, count(distinct employee_id) counts from df_company b\n",
    "left join df_all a\n",
    "on a.company_id = b.company and a.join_date<=b.date and (a.quit_date is null or b.date <a.quit_date)\n",
    "group by 1,2\n",
    "\"\"\""
   ]
  },
  {
   "cell_type": "code",
   "execution_count": 22,
   "metadata": {
    "collapsed": true
   },
   "outputs": [],
   "source": [
    "query_quit = \"\"\"\n",
    "select b.company,b.date, count(distinct employee_id) counts from df_company b\n",
    "left join df_all a\n",
    "on a.company_id = b.company and  b.date >= a.quit_date\n",
    "group by 1,2\n",
    "\"\"\""
   ]
  },
  {
   "cell_type": "code",
   "execution_count": 23,
   "metadata": {
    "collapsed": false
   },
   "outputs": [],
   "source": [
    "newdf = sqldf(query_base,locals())"
   ]
  },
  {
   "cell_type": "code",
   "execution_count": 24,
   "metadata": {
    "collapsed": false
   },
   "outputs": [],
   "source": [
    "quitdf = sqldf(query_quit,locals())"
   ]
  },
  {
   "cell_type": "code",
   "execution_count": 25,
   "metadata": {
    "collapsed": false
   },
   "outputs": [
    {
     "data": {
      "text/html": [
       "<div>\n",
       "<table border=\"1\" class=\"dataframe\">\n",
       "  <thead>\n",
       "    <tr style=\"text-align: right;\">\n",
       "      <th></th>\n",
       "      <th>company</th>\n",
       "      <th>date</th>\n",
       "      <th>counts</th>\n",
       "    </tr>\n",
       "  </thead>\n",
       "  <tbody>\n",
       "    <tr>\n",
       "      <th>0</th>\n",
       "      <td>1</td>\n",
       "      <td>2011-01-24 00:00:00.000000</td>\n",
       "      <td>25</td>\n",
       "    </tr>\n",
       "    <tr>\n",
       "      <th>1</th>\n",
       "      <td>1</td>\n",
       "      <td>2011-01-25 00:00:00.000000</td>\n",
       "      <td>27</td>\n",
       "    </tr>\n",
       "    <tr>\n",
       "      <th>2</th>\n",
       "      <td>1</td>\n",
       "      <td>2011-01-26 00:00:00.000000</td>\n",
       "      <td>29</td>\n",
       "    </tr>\n",
       "  </tbody>\n",
       "</table>\n",
       "</div>"
      ],
      "text/plain": [
       "   company                        date  counts\n",
       "0        1  2011-01-24 00:00:00.000000      25\n",
       "1        1  2011-01-25 00:00:00.000000      27\n",
       "2        1  2011-01-26 00:00:00.000000      29"
      ]
     },
     "execution_count": 25,
     "metadata": {},
     "output_type": "execute_result"
    }
   ],
   "source": [
    "newdf.head(3)"
   ]
  },
  {
   "cell_type": "code",
   "execution_count": 26,
   "metadata": {
    "collapsed": false
   },
   "outputs": [
    {
     "data": {
      "text/html": [
       "<div>\n",
       "<table border=\"1\" class=\"dataframe\">\n",
       "  <thead>\n",
       "    <tr style=\"text-align: right;\">\n",
       "      <th></th>\n",
       "      <th>company</th>\n",
       "      <th>date</th>\n",
       "      <th>counts</th>\n",
       "    </tr>\n",
       "  </thead>\n",
       "  <tbody>\n",
       "    <tr>\n",
       "      <th>0</th>\n",
       "      <td>1</td>\n",
       "      <td>2011-01-24 00:00:00.000000</td>\n",
       "      <td>0</td>\n",
       "    </tr>\n",
       "    <tr>\n",
       "      <th>1</th>\n",
       "      <td>1</td>\n",
       "      <td>2011-01-25 00:00:00.000000</td>\n",
       "      <td>0</td>\n",
       "    </tr>\n",
       "    <tr>\n",
       "      <th>2</th>\n",
       "      <td>1</td>\n",
       "      <td>2011-01-26 00:00:00.000000</td>\n",
       "      <td>0</td>\n",
       "    </tr>\n",
       "  </tbody>\n",
       "</table>\n",
       "</div>"
      ],
      "text/plain": [
       "   company                        date  counts\n",
       "0        1  2011-01-24 00:00:00.000000       0\n",
       "1        1  2011-01-25 00:00:00.000000       0\n",
       "2        1  2011-01-26 00:00:00.000000       0"
      ]
     },
     "execution_count": 26,
     "metadata": {},
     "output_type": "execute_result"
    }
   ],
   "source": [
    "quitdf.head(3)"
   ]
  },
  {
   "cell_type": "code",
   "execution_count": 27,
   "metadata": {
    "collapsed": false
   },
   "outputs": [],
   "source": [
    "companydf = newdf.merge(quitdf, how = 'left', on = ['company', 'date'])"
   ]
  },
  {
   "cell_type": "code",
   "execution_count": 28,
   "metadata": {
    "collapsed": false
   },
   "outputs": [
    {
     "data": {
      "text/html": [
       "<div>\n",
       "<table border=\"1\" class=\"dataframe\">\n",
       "  <thead>\n",
       "    <tr style=\"text-align: right;\">\n",
       "      <th></th>\n",
       "      <th>company</th>\n",
       "      <th>date</th>\n",
       "      <th>counts_x</th>\n",
       "      <th>counts_y</th>\n",
       "    </tr>\n",
       "  </thead>\n",
       "  <tbody>\n",
       "    <tr>\n",
       "      <th>0</th>\n",
       "      <td>1</td>\n",
       "      <td>2011-01-24 00:00:00.000000</td>\n",
       "      <td>25</td>\n",
       "      <td>0</td>\n",
       "    </tr>\n",
       "    <tr>\n",
       "      <th>1</th>\n",
       "      <td>1</td>\n",
       "      <td>2011-01-25 00:00:00.000000</td>\n",
       "      <td>27</td>\n",
       "      <td>0</td>\n",
       "    </tr>\n",
       "    <tr>\n",
       "      <th>2</th>\n",
       "      <td>1</td>\n",
       "      <td>2011-01-26 00:00:00.000000</td>\n",
       "      <td>29</td>\n",
       "      <td>0</td>\n",
       "    </tr>\n",
       "  </tbody>\n",
       "</table>\n",
       "</div>"
      ],
      "text/plain": [
       "   company                        date  counts_x  counts_y\n",
       "0        1  2011-01-24 00:00:00.000000        25         0\n",
       "1        1  2011-01-25 00:00:00.000000        27         0\n",
       "2        1  2011-01-26 00:00:00.000000        29         0"
      ]
     },
     "execution_count": 28,
     "metadata": {},
     "output_type": "execute_result"
    }
   ],
   "source": [
    "companydf.head(3)"
   ]
  },
  {
   "cell_type": "code",
   "execution_count": 202,
   "metadata": {
    "collapsed": false
   },
   "outputs": [
    {
     "data": {
      "text/html": [
       "<div>\n",
       "<table border=\"1\" class=\"dataframe\">\n",
       "  <thead>\n",
       "    <tr style=\"text-align: right;\">\n",
       "      <th></th>\n",
       "      <th>company</th>\n",
       "      <th>date</th>\n",
       "      <th>counts_x</th>\n",
       "      <th>counts_y</th>\n",
       "    </tr>\n",
       "  </thead>\n",
       "  <tbody>\n",
       "    <tr>\n",
       "      <th>13751</th>\n",
       "      <td>12</td>\n",
       "      <td>2013-10-18 00:00:00.000000</td>\n",
       "      <td>8</td>\n",
       "      <td>7</td>\n",
       "    </tr>\n",
       "  </tbody>\n",
       "</table>\n",
       "</div>"
      ],
      "text/plain": [
       "       company                        date  counts_x  counts_y\n",
       "13751       12  2013-10-18 00:00:00.000000         8         7"
      ]
     },
     "execution_count": 202,
     "metadata": {},
     "output_type": "execute_result"
    }
   ],
   "source": [
    "companydf.loc[(companydf['company'] == 12) & (companydf['date'] == '2013-10-18 00:00:00.000000')]"
   ]
  },
  {
   "cell_type": "code",
   "execution_count": 29,
   "metadata": {
    "collapsed": false
   },
   "outputs": [],
   "source": [
    "companydf = companydf.rename(columns = {'counts_x': 'current_employee', 'counts_y': 'employee_headcount'})"
   ]
  },
  {
   "cell_type": "code",
   "execution_count": 30,
   "metadata": {
    "collapsed": false
   },
   "outputs": [
    {
     "data": {
      "text/html": [
       "<div>\n",
       "<table border=\"1\" class=\"dataframe\">\n",
       "  <thead>\n",
       "    <tr style=\"text-align: right;\">\n",
       "      <th></th>\n",
       "      <th>company</th>\n",
       "      <th>date</th>\n",
       "      <th>current_employee</th>\n",
       "      <th>employee_headcount</th>\n",
       "    </tr>\n",
       "  </thead>\n",
       "  <tbody>\n",
       "    <tr>\n",
       "      <th>0</th>\n",
       "      <td>1</td>\n",
       "      <td>2011-01-24 00:00:00.000000</td>\n",
       "      <td>25</td>\n",
       "      <td>0</td>\n",
       "    </tr>\n",
       "    <tr>\n",
       "      <th>1</th>\n",
       "      <td>1</td>\n",
       "      <td>2011-01-25 00:00:00.000000</td>\n",
       "      <td>27</td>\n",
       "      <td>0</td>\n",
       "    </tr>\n",
       "    <tr>\n",
       "      <th>2</th>\n",
       "      <td>1</td>\n",
       "      <td>2011-01-26 00:00:00.000000</td>\n",
       "      <td>29</td>\n",
       "      <td>0</td>\n",
       "    </tr>\n",
       "  </tbody>\n",
       "</table>\n",
       "</div>"
      ],
      "text/plain": [
       "   company                        date  current_employee  employee_headcount\n",
       "0        1  2011-01-24 00:00:00.000000                25                   0\n",
       "1        1  2011-01-25 00:00:00.000000                27                   0\n",
       "2        1  2011-01-26 00:00:00.000000                29                   0"
      ]
     },
     "execution_count": 30,
     "metadata": {},
     "output_type": "execute_result"
    }
   ],
   "source": [
    "companydf.head(3)"
   ]
  },
  {
   "cell_type": "markdown",
   "metadata": {},
   "source": [
    "#### Method 2: use pandas only ( Not correct for now)"
   ]
  },
  {
   "cell_type": "code",
   "execution_count": 96,
   "metadata": {
    "collapsed": false
   },
   "outputs": [],
   "source": [
    "# cumulative joined employee counts by date\n",
    "company_join = df_all.groupby(['company_id', 'join_date'])['employee_id'].nunique().reset_index(name = 'counts')\n",
    "company_join['cumulative_sum'] = company_join.groupby(['company_id'])['counts'].cumsum()\n",
    "\n",
    "# cumulative quit employee counts by date\n",
    "company_quit = df_all.groupby(['company_id', 'quit_date'])['employee_id'].nunique().reset_index(name = 'counts')\n",
    "company_quit['cumulative_sum'] = company_quit.groupby(['company_id'])['counts'].cumsum()"
   ]
  },
  {
   "cell_type": "code",
   "execution_count": 129,
   "metadata": {
    "collapsed": false
   },
   "outputs": [
    {
     "data": {
      "text/html": [
       "<div>\n",
       "<table border=\"1\" class=\"dataframe\">\n",
       "  <thead>\n",
       "    <tr style=\"text-align: right;\">\n",
       "      <th></th>\n",
       "      <th>company</th>\n",
       "      <th>forjoin</th>\n",
       "      <th>date</th>\n",
       "    </tr>\n",
       "  </thead>\n",
       "  <tbody>\n",
       "    <tr>\n",
       "      <th>0</th>\n",
       "      <td>7</td>\n",
       "      <td>1</td>\n",
       "      <td>2011-01-24</td>\n",
       "    </tr>\n",
       "    <tr>\n",
       "      <th>1</th>\n",
       "      <td>7</td>\n",
       "      <td>1</td>\n",
       "      <td>2011-01-25</td>\n",
       "    </tr>\n",
       "    <tr>\n",
       "      <th>2</th>\n",
       "      <td>7</td>\n",
       "      <td>1</td>\n",
       "      <td>2011-01-26</td>\n",
       "    </tr>\n",
       "  </tbody>\n",
       "</table>\n",
       "</div>"
      ],
      "text/plain": [
       "   company  forjoin       date\n",
       "0        7        1 2011-01-24\n",
       "1        7        1 2011-01-25\n",
       "2        7        1 2011-01-26"
      ]
     },
     "execution_count": 129,
     "metadata": {},
     "output_type": "execute_result"
    }
   ],
   "source": [
    "df_company.head(3)"
   ]
  },
  {
   "cell_type": "code",
   "execution_count": 180,
   "metadata": {
    "collapsed": false
   },
   "outputs": [],
   "source": [
    "df_company_2 = df_company.merge(company_join, how = 'left', left_on = ['company','date'], \n",
    "                                right_on = ['company_id','join_date']).copy()"
   ]
  },
  {
   "cell_type": "code",
   "execution_count": 181,
   "metadata": {
    "collapsed": false
   },
   "outputs": [],
   "source": [
    "df_company_2 = df_company_2.merge(company_quit, how = 'left', left_on = ['company','date'], \n",
    "                                right_on = ['company_id','quit_date'])"
   ]
  },
  {
   "cell_type": "code",
   "execution_count": 182,
   "metadata": {
    "collapsed": true
   },
   "outputs": [],
   "source": [
    "df_company_2 = df_company_2.loc[ ~ ((df_company_2['join_date'].isnull()) & (df_company_2['quit_date'].isnull()))]"
   ]
  },
  {
   "cell_type": "code",
   "execution_count": 186,
   "metadata": {
    "collapsed": true
   },
   "outputs": [],
   "source": [
    "col = ['cumulative_sum_x','cumulative_sum_y']\n",
    "df_company_2[col] = df_company_2[col].fillna(0)"
   ]
  },
  {
   "cell_type": "code",
   "execution_count": 190,
   "metadata": {
    "collapsed": false
   },
   "outputs": [
    {
     "data": {
      "text/html": [
       "<div>\n",
       "<table border=\"1\" class=\"dataframe\">\n",
       "  <thead>\n",
       "    <tr style=\"text-align: right;\">\n",
       "      <th></th>\n",
       "      <th>company</th>\n",
       "      <th>date</th>\n",
       "      <th>cumulative_sum_x</th>\n",
       "      <th>cumulative_sum_y</th>\n",
       "      <th>current_employee</th>\n",
       "      <th>employee_headcount</th>\n",
       "    </tr>\n",
       "  </thead>\n",
       "  <tbody>\n",
       "    <tr>\n",
       "      <th>0</th>\n",
       "      <td>7</td>\n",
       "      <td>2011-01-24</td>\n",
       "      <td>1</td>\n",
       "      <td>0</td>\n",
       "      <td>1</td>\n",
       "      <td>0</td>\n",
       "    </tr>\n",
       "    <tr>\n",
       "      <th>3</th>\n",
       "      <td>7</td>\n",
       "      <td>2011-01-31</td>\n",
       "      <td>7</td>\n",
       "      <td>0</td>\n",
       "      <td>8</td>\n",
       "      <td>0</td>\n",
       "    </tr>\n",
       "    <tr>\n",
       "      <th>7</th>\n",
       "      <td>7</td>\n",
       "      <td>2011-02-07</td>\n",
       "      <td>12</td>\n",
       "      <td>0</td>\n",
       "      <td>20</td>\n",
       "      <td>0</td>\n",
       "    </tr>\n",
       "  </tbody>\n",
       "</table>\n",
       "</div>"
      ],
      "text/plain": [
       "   company       date  cumulative_sum_x  cumulative_sum_y  current_employee  \\\n",
       "0        7 2011-01-24                 1                 0                 1   \n",
       "3        7 2011-01-31                 7                 0                 8   \n",
       "7        7 2011-02-07                12                 0                20   \n",
       "\n",
       "   employee_headcount  \n",
       "0                   0  \n",
       "3                   0  \n",
       "7                   0  "
      ]
     },
     "execution_count": 190,
     "metadata": {},
     "output_type": "execute_result"
    }
   ],
   "source": [
    "df_company_2.head(3)"
   ]
  },
  {
   "cell_type": "code",
   "execution_count": 184,
   "metadata": {
    "collapsed": false
   },
   "outputs": [],
   "source": [
    "df_company_2 = df_company_2.drop(['forjoin', 'company_id_x', 'company_id_y','counts_x', 'counts_y', 'join_date', 'quit_date'], axis=1) "
   ]
  },
  {
   "cell_type": "code",
   "execution_count": 178,
   "metadata": {
    "collapsed": false
   },
   "outputs": [],
   "source": [
    "#df_company_2 = df_company_2.rename(columns = {'cumulative_sum_y':'employee_headcount'})"
   ]
  },
  {
   "cell_type": "code",
   "execution_count": 189,
   "metadata": {
    "collapsed": false
   },
   "outputs": [],
   "source": [
    "df_company_2['current_employee'] = df_company_2.groupby(['company'])['cumulative_sum_x'].cumsum()\n",
    "df_company_2['employee_headcount'] = df_company_2.groupby(['company'])['cumulative_sum_y'].cumsum()"
   ]
  },
  {
   "cell_type": "code",
   "execution_count": 166,
   "metadata": {
    "collapsed": false
   },
   "outputs": [
    {
     "data": {
      "text/html": [
       "<div>\n",
       "<table border=\"1\" class=\"dataframe\">\n",
       "  <thead>\n",
       "    <tr style=\"text-align: right;\">\n",
       "      <th></th>\n",
       "      <th>company</th>\n",
       "      <th>date</th>\n",
       "      <th>join_date</th>\n",
       "      <th>cumulative_sum_x</th>\n",
       "      <th>quit_date</th>\n",
       "      <th>employee_headcount</th>\n",
       "      <th>current_employee</th>\n",
       "    </tr>\n",
       "  </thead>\n",
       "  <tbody>\n",
       "    <tr>\n",
       "      <th>4766</th>\n",
       "      <td>1</td>\n",
       "      <td>2011-01-26</td>\n",
       "      <td>2011-01-26</td>\n",
       "      <td>29</td>\n",
       "      <td>NaT</td>\n",
       "      <td>0</td>\n",
       "      <td>29</td>\n",
       "    </tr>\n",
       "  </tbody>\n",
       "</table>\n",
       "</div>"
      ],
      "text/plain": [
       "      company       date  join_date  cumulative_sum_x quit_date  \\\n",
       "4766        1 2011-01-26 2011-01-26                29       NaT   \n",
       "\n",
       "      employee_headcount  current_employee  \n",
       "4766                   0                29  "
      ]
     },
     "execution_count": 166,
     "metadata": {},
     "output_type": "execute_result"
    }
   ],
   "source": [
    "df_company_2.loc[(df_company_2['company'] == 1) & (df_company_2['date'] == '2011-01-26') ]"
   ]
  },
  {
   "cell_type": "code",
   "execution_count": 162,
   "metadata": {
    "collapsed": false
   },
   "outputs": [],
   "source": [
    "col = ['cumulative_sum_x','employee_headcount']\n",
    "df_company_2[col] = df_company_2[col].fillna(0)"
   ]
  },
  {
   "cell_type": "code",
   "execution_count": 164,
   "metadata": {
    "collapsed": true
   },
   "outputs": [],
   "source": [
    "df_company_2['current_employee'] = df_company_2['cumulative_sum_x'] - df_company_2['employee_headcount']"
   ]
  },
  {
   "cell_type": "code",
   "execution_count": 173,
   "metadata": {
    "collapsed": false
   },
   "outputs": [
    {
     "data": {
      "text/html": [
       "<div>\n",
       "<table border=\"1\" class=\"dataframe\">\n",
       "  <thead>\n",
       "    <tr style=\"text-align: right;\">\n",
       "      <th></th>\n",
       "      <th>company</th>\n",
       "      <th>date</th>\n",
       "      <th>join_date</th>\n",
       "      <th>cumulative_sum_x</th>\n",
       "      <th>quit_date</th>\n",
       "      <th>employee_headcount</th>\n",
       "      <th>current_employee</th>\n",
       "    </tr>\n",
       "  </thead>\n",
       "  <tbody>\n",
       "    <tr>\n",
       "      <th>0</th>\n",
       "      <td>7</td>\n",
       "      <td>2011-01-24</td>\n",
       "      <td>2011-01-24</td>\n",
       "      <td>1</td>\n",
       "      <td>NaT</td>\n",
       "      <td>0</td>\n",
       "      <td>1</td>\n",
       "    </tr>\n",
       "    <tr>\n",
       "      <th>3</th>\n",
       "      <td>7</td>\n",
       "      <td>2011-01-31</td>\n",
       "      <td>2011-01-31</td>\n",
       "      <td>7</td>\n",
       "      <td>NaT</td>\n",
       "      <td>0</td>\n",
       "      <td>7</td>\n",
       "    </tr>\n",
       "    <tr>\n",
       "      <th>7</th>\n",
       "      <td>7</td>\n",
       "      <td>2011-02-07</td>\n",
       "      <td>2011-02-07</td>\n",
       "      <td>12</td>\n",
       "      <td>NaT</td>\n",
       "      <td>0</td>\n",
       "      <td>12</td>\n",
       "    </tr>\n",
       "  </tbody>\n",
       "</table>\n",
       "</div>"
      ],
      "text/plain": [
       "   company       date  join_date  cumulative_sum_x quit_date  \\\n",
       "0        7 2011-01-24 2011-01-24                 1       NaT   \n",
       "3        7 2011-01-31 2011-01-31                 7       NaT   \n",
       "7        7 2011-02-07 2011-02-07                12       NaT   \n",
       "\n",
       "   employee_headcount  current_employee  \n",
       "0                   0                 1  \n",
       "3                   0                 7  \n",
       "7                   0                12  "
      ]
     },
     "execution_count": 173,
     "metadata": {},
     "output_type": "execute_result"
    }
   ],
   "source": [
    "df_company_2 = df_company_2.loc[ ~ ((df_company_2['join_date'].isnull()) & (df_company_2['quit_date'].isnull()))]"
   ]
  },
  {
   "cell_type": "markdown",
   "metadata": {},
   "source": [
    "#### Method 2: end"
   ]
  },
  {
   "cell_type": "code",
   "execution_count": null,
   "metadata": {
    "collapsed": true
   },
   "outputs": [],
   "source": []
  },
  {
   "cell_type": "markdown",
   "metadata": {},
   "source": [
    "### Feature Enginerring"
   ]
  },
  {
   "cell_type": "code",
   "execution_count": 31,
   "metadata": {
    "collapsed": false
   },
   "outputs": [
    {
     "data": {
      "text/html": [
       "<div>\n",
       "<table border=\"1\" class=\"dataframe\">\n",
       "  <thead>\n",
       "    <tr style=\"text-align: right;\">\n",
       "      <th></th>\n",
       "      <th>employee_id</th>\n",
       "      <th>company_id</th>\n",
       "      <th>dept</th>\n",
       "      <th>seniority</th>\n",
       "      <th>salary</th>\n",
       "      <th>join_date</th>\n",
       "      <th>quit_date</th>\n",
       "      <th>quit_flag</th>\n",
       "      <th>days_before_quit</th>\n",
       "    </tr>\n",
       "  </thead>\n",
       "  <tbody>\n",
       "    <tr>\n",
       "      <th>0</th>\n",
       "      <td>13021</td>\n",
       "      <td>7</td>\n",
       "      <td>customer_service</td>\n",
       "      <td>28</td>\n",
       "      <td>89000</td>\n",
       "      <td>2014-03-24</td>\n",
       "      <td>2015-10-30</td>\n",
       "      <td>Y</td>\n",
       "      <td>585</td>\n",
       "    </tr>\n",
       "    <tr>\n",
       "      <th>1</th>\n",
       "      <td>825355</td>\n",
       "      <td>7</td>\n",
       "      <td>marketing</td>\n",
       "      <td>20</td>\n",
       "      <td>183000</td>\n",
       "      <td>2013-04-29</td>\n",
       "      <td>2014-04-04</td>\n",
       "      <td>Y</td>\n",
       "      <td>340</td>\n",
       "    </tr>\n",
       "    <tr>\n",
       "      <th>2</th>\n",
       "      <td>927315</td>\n",
       "      <td>4</td>\n",
       "      <td>marketing</td>\n",
       "      <td>14</td>\n",
       "      <td>101000</td>\n",
       "      <td>2014-10-13</td>\n",
       "      <td>NaT</td>\n",
       "      <td>N</td>\n",
       "      <td>NaN</td>\n",
       "    </tr>\n",
       "  </tbody>\n",
       "</table>\n",
       "</div>"
      ],
      "text/plain": [
       "   employee_id  company_id              dept  seniority  salary  join_date  \\\n",
       "0        13021           7  customer_service         28   89000 2014-03-24   \n",
       "1       825355           7         marketing         20  183000 2013-04-29   \n",
       "2       927315           4         marketing         14  101000 2014-10-13   \n",
       "\n",
       "   quit_date quit_flag  days_before_quit  \n",
       "0 2015-10-30         Y               585  \n",
       "1 2014-04-04         Y               340  \n",
       "2        NaT         N               NaN  "
      ]
     },
     "execution_count": 31,
     "metadata": {},
     "output_type": "execute_result"
    }
   ],
   "source": [
    "## dataset 1\n",
    "df_all.head(3)"
   ]
  },
  {
   "cell_type": "code",
   "execution_count": 32,
   "metadata": {
    "collapsed": false
   },
   "outputs": [
    {
     "data": {
      "text/html": [
       "<div>\n",
       "<table border=\"1\" class=\"dataframe\">\n",
       "  <thead>\n",
       "    <tr style=\"text-align: right;\">\n",
       "      <th></th>\n",
       "      <th>company</th>\n",
       "      <th>date</th>\n",
       "      <th>current_employee</th>\n",
       "      <th>employee_headcount</th>\n",
       "    </tr>\n",
       "  </thead>\n",
       "  <tbody>\n",
       "    <tr>\n",
       "      <th>0</th>\n",
       "      <td>1</td>\n",
       "      <td>2011-01-24 00:00:00.000000</td>\n",
       "      <td>25</td>\n",
       "      <td>0</td>\n",
       "    </tr>\n",
       "    <tr>\n",
       "      <th>1</th>\n",
       "      <td>1</td>\n",
       "      <td>2011-01-25 00:00:00.000000</td>\n",
       "      <td>27</td>\n",
       "      <td>0</td>\n",
       "    </tr>\n",
       "    <tr>\n",
       "      <th>2</th>\n",
       "      <td>1</td>\n",
       "      <td>2011-01-26 00:00:00.000000</td>\n",
       "      <td>29</td>\n",
       "      <td>0</td>\n",
       "    </tr>\n",
       "  </tbody>\n",
       "</table>\n",
       "</div>"
      ],
      "text/plain": [
       "   company                        date  current_employee  employee_headcount\n",
       "0        1  2011-01-24 00:00:00.000000                25                   0\n",
       "1        1  2011-01-25 00:00:00.000000                27                   0\n",
       "2        1  2011-01-26 00:00:00.000000                29                   0"
      ]
     },
     "execution_count": 32,
     "metadata": {},
     "output_type": "execute_result"
    }
   ],
   "source": [
    "### company dataset\n",
    "companydf.head(3)"
   ]
  },
  {
   "cell_type": "markdown",
   "metadata": {},
   "source": [
    "#### 1. Company Info"
   ]
  },
  {
   "cell_type": "code",
   "execution_count": 33,
   "metadata": {
    "collapsed": false
   },
   "outputs": [],
   "source": [
    "company1 = df_all.groupby(['company_id'])['employee_id'].nunique().reset_index(name = 'total_employee')\n",
    "company_quit_or_not = df_all.groupby(['company_id', 'quit_flag'])['employee_id'].nunique().reset_index(name = 'quit_employee')"
   ]
  },
  {
   "cell_type": "code",
   "execution_count": 34,
   "metadata": {
    "collapsed": false
   },
   "outputs": [],
   "source": [
    "company2 = company1.merge(company_quit_or_not.loc[company_quit_or_not['quit_flag'] == 'Y'], \n",
    "               how = 'left', on = 'company_id')"
   ]
  },
  {
   "cell_type": "code",
   "execution_count": 35,
   "metadata": {
    "collapsed": true
   },
   "outputs": [],
   "source": [
    "company2['quit_rate'] = company2['quit_employee']/company2['total_employee']"
   ]
  },
  {
   "cell_type": "code",
   "execution_count": 36,
   "metadata": {
    "collapsed": false,
    "scrolled": true
   },
   "outputs": [
    {
     "data": {
      "image/png": "[encoded data removed]",
      "text/plain": [
       "<matplotlib.figure.Figure at 0x119f59630>"
      ]
     },
     "metadata": {},
     "output_type": "display_data"
    }
   ],
   "source": [
    "# bar chart by company\n",
    "sns.set(style=\"whitegrid\")\n",
    "\n",
    "fig, axs = plt.subplots(2,1, sharex = True,  figsize=(14, 7))\n",
    "\n",
    "f1 = sns.catplot(x = 'company_id', y = 'quit_employee', hue = 'quit_flag', kind = 'bar', \n",
    "            height = 3, aspect= 1, palette= \"RdBu\", data = company_quit_or_not, ax = axs[0])\n",
    "axs[0].set_title('Employee Count By Quit Flag')\n",
    "axs[0].set(xlabel='Company ID', ylabel='Employee Count')\n",
    "\n",
    "f2 = sns.catplot(x = 'company_id', y = 'quit_rate',  kind = 'bar', height = 3, aspect= 1, \n",
    "                palette= \"RdBu\", data = company2, ax = axs[1])\n",
    "axs[1].set_title('Quit Rate By Company')\n",
    "axs[1].set(xlabel='Company ID', ylabel='Quit Rate')\n",
    "\n",
    "plt.close(2)\n",
    "plt.close(3)\n"
   ]
  },
  {
   "cell_type": "markdown",
   "metadata": {},
   "source": [
    "##### All companies have a quit rate slightly larger than 0.5. Company 11 has a much higer quit rate, but they only have 16 employees so far while company 1 has nearly 9000."
   ]
  },
  {
   "cell_type": "code",
   "execution_count": 37,
   "metadata": {
    "collapsed": false
   },
   "outputs": [
    {
     "data": {
      "text/html": [
       "<div>\n",
       "<table border=\"1\" class=\"dataframe\">\n",
       "  <thead>\n",
       "    <tr style=\"text-align: right;\">\n",
       "      <th></th>\n",
       "      <th>company</th>\n",
       "      <th>date</th>\n",
       "      <th>current_employee</th>\n",
       "      <th>employee_headcount</th>\n",
       "    </tr>\n",
       "  </thead>\n",
       "  <tbody>\n",
       "    <tr>\n",
       "      <th>0</th>\n",
       "      <td>1</td>\n",
       "      <td>2011-01-24 00:00:00.000000</td>\n",
       "      <td>25</td>\n",
       "      <td>0</td>\n",
       "    </tr>\n",
       "    <tr>\n",
       "      <th>1</th>\n",
       "      <td>1</td>\n",
       "      <td>2011-01-25 00:00:00.000000</td>\n",
       "      <td>27</td>\n",
       "      <td>0</td>\n",
       "    </tr>\n",
       "    <tr>\n",
       "      <th>2</th>\n",
       "      <td>1</td>\n",
       "      <td>2011-01-26 00:00:00.000000</td>\n",
       "      <td>29</td>\n",
       "      <td>0</td>\n",
       "    </tr>\n",
       "  </tbody>\n",
       "</table>\n",
       "</div>"
      ],
      "text/plain": [
       "   company                        date  current_employee  employee_headcount\n",
       "0        1  2011-01-24 00:00:00.000000                25                   0\n",
       "1        1  2011-01-25 00:00:00.000000                27                   0\n",
       "2        1  2011-01-26 00:00:00.000000                29                   0"
      ]
     },
     "execution_count": 37,
     "metadata": {},
     "output_type": "execute_result"
    }
   ],
   "source": [
    "companydf.head(3)"
   ]
  },
  {
   "cell_type": "code",
   "execution_count": 38,
   "metadata": {
    "collapsed": false
   },
   "outputs": [],
   "source": [
    "companydf['date'] = companydf['date'].apply(lambda x: x[0:11])"
   ]
  },
  {
   "cell_type": "code",
   "execution_count": 39,
   "metadata": {
    "collapsed": false
   },
   "outputs": [],
   "source": [
    "from datetime import datetime\n",
    "companydf['date_time'] = companydf['date']\n",
    "companydf['date_time'] = companydf['date_time'].str.strip()\n",
    "companydf['date_time'] = pd.to_datetime(companydf['date_time'], format = '%Y-%m-%d')"
   ]
  },
  {
   "cell_type": "code",
   "execution_count": 44,
   "metadata": {
    "collapsed": false
   },
   "outputs": [
    {
     "data": {
      "image/png": "[encoded data removed]",
      "text/plain": [
       "<matplotlib.figure.Figure at 0x119ff6828>"
      ]
     },
     "metadata": {},
     "output_type": "display_data"
    }
   ],
   "source": [
    "fig, axs = plt.subplots(2,1, sharex = True, figsize=(10, 5))\n",
    "sns.lineplot(x = 'date_time', y = 'current_employee',\n",
    "             data = companydf.loc[companydf['company'] == 6], \n",
    "             #data = companydf,\n",
    "             ax = axs[0])\n",
    "\n",
    "axs[0].set_title(\"Current Employee By Date\")\n",
    "\n",
    "sns.lineplot(x = 'date_time', y = 'employee_headcount',\n",
    "             data = companydf.loc[companydf['company'] == 6], \n",
    "             #data = companydf,\n",
    "             ax = axs[1])\n",
    "axs[1].set_title(\"Head Count By Date\")\n",
    "plt.close(2)\n",
    "plt.close(3)"
   ]
  },
  {
   "cell_type": "markdown",
   "metadata": {
    "collapsed": true
   },
   "source": [
    "#### 2. Department Info"
   ]
  },
  {
   "cell_type": "code",
   "execution_count": 46,
   "metadata": {
    "collapsed": false
   },
   "outputs": [
    {
     "data": {
      "text/html": [
       "<div>\n",
       "<table border=\"1\" class=\"dataframe\">\n",
       "  <thead>\n",
       "    <tr style=\"text-align: right;\">\n",
       "      <th></th>\n",
       "      <th>employee_id</th>\n",
       "      <th>company_id</th>\n",
       "      <th>dept</th>\n",
       "      <th>seniority</th>\n",
       "      <th>salary</th>\n",
       "      <th>join_date</th>\n",
       "      <th>quit_date</th>\n",
       "      <th>quit_flag</th>\n",
       "      <th>days_before_quit</th>\n",
       "    </tr>\n",
       "  </thead>\n",
       "  <tbody>\n",
       "    <tr>\n",
       "      <th>0</th>\n",
       "      <td>13021</td>\n",
       "      <td>7</td>\n",
       "      <td>customer_service</td>\n",
       "      <td>28</td>\n",
       "      <td>89000</td>\n",
       "      <td>2014-03-24</td>\n",
       "      <td>2015-10-30</td>\n",
       "      <td>Y</td>\n",
       "      <td>585</td>\n",
       "    </tr>\n",
       "    <tr>\n",
       "      <th>1</th>\n",
       "      <td>825355</td>\n",
       "      <td>7</td>\n",
       "      <td>marketing</td>\n",
       "      <td>20</td>\n",
       "      <td>183000</td>\n",
       "      <td>2013-04-29</td>\n",
       "      <td>2014-04-04</td>\n",
       "      <td>Y</td>\n",
       "      <td>340</td>\n",
       "    </tr>\n",
       "  </tbody>\n",
       "</table>\n",
       "</div>"
      ],
      "text/plain": [
       "   employee_id  company_id              dept  seniority  salary  join_date  \\\n",
       "0        13021           7  customer_service         28   89000 2014-03-24   \n",
       "1       825355           7         marketing         20  183000 2013-04-29   \n",
       "\n",
       "   quit_date quit_flag  days_before_quit  \n",
       "0 2015-10-30         Y               585  \n",
       "1 2014-04-04         Y               340  "
      ]
     },
     "execution_count": 46,
     "metadata": {},
     "output_type": "execute_result"
    }
   ],
   "source": [
    "df_all.head(2)"
   ]
  },
  {
   "cell_type": "code",
   "execution_count": 52,
   "metadata": {
    "collapsed": false
   },
   "outputs": [
    {
     "data": {
      "text/plain": [
       "<seaborn.axisgrid.FacetGrid at 0x1160a1630>"
      ]
     },
     "execution_count": 52,
     "metadata": {},
     "output_type": "execute_result"
    },
    {
     "data": {
      "image/png": "[encoded data removed]",
      "text/plain": [
       "<matplotlib.figure.Figure at 0x11aff2eb8>"
      ]
     },
     "metadata": {},
     "output_type": "display_data"
    }
   ],
   "source": [
    "sns.catplot(x = 'dept', y = 'count', hue = 'quit_flag', kind = 'bar', height = 5, aspect= 2,\n",
    "            data = df_all.groupby(['dept','quit_flag']).size().reset_index(name = 'count'))"
   ]
  },
  {
   "cell_type": "code",
   "execution_count": 57,
   "metadata": {
    "collapsed": false
   },
   "outputs": [],
   "source": [
    "dept_no = df_all[df_all['quit_flag'] == 'N'].groupby('dept')['employee_id'].size().reset_index(name = 'quit_no')\n",
    "dept_yes = df_all[df_all['quit_flag'] == 'Y'].groupby('dept')['employee_id'].size().reset_index(name = 'quit_yes')\n",
    "\n",
    "dept_cr = pd.merge(dept_no, dept_yes, how = 'inner', on = 'dept')"
   ]
  },
  {
   "cell_type": "code",
   "execution_count": 62,
   "metadata": {
    "collapsed": false
   },
   "outputs": [
    {
     "data": {
      "text/html": [
       "<div>\n",
       "<table border=\"1\" class=\"dataframe\">\n",
       "  <thead>\n",
       "    <tr style=\"text-align: right;\">\n",
       "      <th></th>\n",
       "      <th>dept</th>\n",
       "      <th>quit_no</th>\n",
       "      <th>quit_yes</th>\n",
       "      <th>quit_rate</th>\n",
       "    </tr>\n",
       "  </thead>\n",
       "  <tbody>\n",
       "    <tr>\n",
       "      <th>0</th>\n",
       "      <td>customer_service</td>\n",
       "      <td>4086</td>\n",
       "      <td>5094</td>\n",
       "      <td>0.554902</td>\n",
       "    </tr>\n",
       "    <tr>\n",
       "      <th>1</th>\n",
       "      <td>data_science</td>\n",
       "      <td>1508</td>\n",
       "      <td>1682</td>\n",
       "      <td>0.527273</td>\n",
       "    </tr>\n",
       "    <tr>\n",
       "      <th>2</th>\n",
       "      <td>design</td>\n",
       "      <td>602</td>\n",
       "      <td>778</td>\n",
       "      <td>0.563768</td>\n",
       "    </tr>\n",
       "  </tbody>\n",
       "</table>\n",
       "</div>"
      ],
      "text/plain": [
       "               dept  quit_no  quit_yes  quit_rate\n",
       "0  customer_service     4086      5094   0.554902\n",
       "1      data_science     1508      1682   0.527273\n",
       "2            design      602       778   0.563768"
      ]
     },
     "execution_count": 62,
     "metadata": {},
     "output_type": "execute_result"
    }
   ],
   "source": [
    "dept_cr.head(3)"
   ]
  },
  {
   "cell_type": "code",
   "execution_count": 61,
   "metadata": {
    "collapsed": true
   },
   "outputs": [],
   "source": [
    "dept_cr['quit_rate'] = dept_cr['quit_yes']/(dept_cr['quit_no'] + dept_cr['quit_yes'])"
   ]
  },
  {
   "cell_type": "code",
   "execution_count": 63,
   "metadata": {
    "collapsed": false
   },
   "outputs": [
    {
     "data": {
      "text/plain": [
       "<seaborn.axisgrid.FacetGrid at 0x11b132ef0>"
      ]
     },
     "execution_count": 63,
     "metadata": {},
     "output_type": "execute_result"
    },
    {
     "data": {
      "image/png": "[encoded data removed]",
      "text/plain": [
       "<matplotlib.figure.Figure at 0x11b132898>"
      ]
     },
     "metadata": {},
     "output_type": "display_data"
    }
   ],
   "source": [
    "sns.catplot(x = 'dept', y = 'quit_rate', kind = 'bar', height = 5, aspect= 2,\n",
    "            data = dept_cr)"
   ]
  },
  {
   "cell_type": "markdown",
   "metadata": {},
   "source": [
    "#### 3. seniority Info"
   ]
  },
  {
   "cell_type": "code",
   "execution_count": 69,
   "metadata": {
    "collapsed": false
   },
   "outputs": [
    {
     "data": {
      "text/plain": [
       "<matplotlib.axes._subplots.AxesSubplot at 0x11b113be0>"
      ]
     },
     "execution_count": 69,
     "metadata": {},
     "output_type": "execute_result"
    },
    {
     "data": {
      "image/png": "[encoded data removed]",
      "text/plain": [
       "<matplotlib.figure.Figure at 0x11aff67f0>"
      ]
     },
     "metadata": {},
     "output_type": "display_data"
    }
   ],
   "source": [
    "sns.lineplot(x = 'seniority', y = 'count', hue = 'quit_flag',\n",
    "            data = df_all.groupby(['seniority','quit_flag']).size().reset_index(name = 'count'))"
   ]
  },
  {
   "cell_type": "markdown",
   "metadata": {},
   "source": [
    "#### 4. salary\tInfo"
   ]
  },
  {
   "cell_type": "code",
   "execution_count": 77,
   "metadata": {
    "collapsed": false
   },
   "outputs": [
    {
     "data": {
      "text/plain": [
       "<matplotlib.axes._subplots.AxesSubplot at 0x11c761240>"
      ]
     },
     "execution_count": 77,
     "metadata": {},
     "output_type": "execute_result"
    },
    {
     "data": {
      "image/png": "[encoded data removed]",
      "text/plain": [
       "<matplotlib.figure.Figure at 0x11c549710>"
      ]
     },
     "metadata": {},
     "output_type": "display_data"
    }
   ],
   "source": [
    "sns.lineplot(x = 'salary', y = 'count', hue = 'quit_flag',\n",
    "            data = df_all.groupby(['salary','quit_flag']).size().reset_index(name = 'count'))"
   ]
  },
  {
   "cell_type": "code",
   "execution_count": 78,
   "metadata": {
    "collapsed": true
   },
   "outputs": [],
   "source": [
    "salary1 = df_all.groupby(['salary','quit_flag']).size().reset_index(name = 'count')"
   ]
  },
  {
   "cell_type": "code",
   "execution_count": 81,
   "metadata": {
    "collapsed": false
   },
   "outputs": [
    {
     "data": {
      "text/html": [
       "<div>\n",
       "<table border=\"1\" class=\"dataframe\">\n",
       "  <thead>\n",
       "    <tr style=\"text-align: right;\">\n",
       "      <th></th>\n",
       "      <th>salary</th>\n",
       "      <th>quit_flag</th>\n",
       "      <th>count</th>\n",
       "      <th>group</th>\n",
       "    </tr>\n",
       "  </thead>\n",
       "  <tbody>\n",
       "    <tr>\n",
       "      <th>0</th>\n",
       "      <td>17000</td>\n",
       "      <td>N</td>\n",
       "      <td>1</td>\n",
       "      <td>17000</td>\n",
       "    </tr>\n",
       "    <tr>\n",
       "      <th>1</th>\n",
       "      <td>17000</td>\n",
       "      <td>Y</td>\n",
       "      <td>1</td>\n",
       "      <td>17000</td>\n",
       "    </tr>\n",
       "    <tr>\n",
       "      <th>2</th>\n",
       "      <td>18000</td>\n",
       "      <td>N</td>\n",
       "      <td>6</td>\n",
       "      <td>17000</td>\n",
       "    </tr>\n",
       "  </tbody>\n",
       "</table>\n",
       "</div>"
      ],
      "text/plain": [
       "   salary quit_flag  count  group\n",
       "0   17000         N      1  17000\n",
       "1   17000         Y      1  17000\n",
       "2   18000         N      6  17000"
      ]
     },
     "execution_count": 81,
     "metadata": {},
     "output_type": "execute_result"
    }
   ],
   "source": [
    "salary1.head(3)"
   ]
  },
  {
   "cell_type": "code",
   "execution_count": 80,
   "metadata": {
    "collapsed": true
   },
   "outputs": [],
   "source": [
    "salary1['group'] = ((salary1['salary'] - 17000)//5000)*5000  + 17000 "
   ]
  },
  {
   "cell_type": "code",
   "execution_count": 82,
   "metadata": {
    "collapsed": false
   },
   "outputs": [
    {
     "data": {
      "text/plain": [
       "group  quit_flag\n",
       "17000  N             50\n",
       "       Y             43\n",
       "22000  N            281\n",
       "Name: count, dtype: int64"
      ]
     },
     "execution_count": 82,
     "metadata": {},
     "output_type": "execute_result"
    }
   ],
   "source": [
    "salary1.groupby(['group','quit_flag'])['count'].sum().head(3)"
   ]
  },
  {
   "cell_type": "code",
   "execution_count": 83,
   "metadata": {
    "collapsed": false
   },
   "outputs": [
    {
     "data": {
      "text/plain": [
       "<matplotlib.axes._subplots.AxesSubplot at 0x11c675eb8>"
      ]
     },
     "execution_count": 83,
     "metadata": {},
     "output_type": "execute_result"
    },
    {
     "data": {
      "image/png": "[encoded data removed]",
      "text/plain": [
       "<matplotlib.figure.Figure at 0x11c791470>"
      ]
     },
     "metadata": {},
     "output_type": "display_data"
    }
   ],
   "source": [
    "sns.lineplot(x = 'group', y = 'count', hue = 'quit_flag',\n",
    "            data = salary1.groupby(['group','quit_flag'])['count'].sum().reset_index(name = 'count'))"
   ]
  },
  {
   "cell_type": "code",
   "execution_count": 88,
   "metadata": {
    "collapsed": false
   },
   "outputs": [],
   "source": [
    "salary_no = salary1[salary1['quit_flag'] == 'N'].groupby('group')['count'].sum().reset_index(name = 'quit_no')\n",
    "salary_yes = salary1[salary1['quit_flag'] == 'Y'].groupby('group')['count'].sum().reset_index(name = 'quit_yes')\n",
    "\n",
    "salary_cr = pd.merge(salary_no, salary_yes, how = 'inner', on = 'group')"
   ]
  },
  {
   "cell_type": "code",
   "execution_count": 90,
   "metadata": {
    "collapsed": true
   },
   "outputs": [],
   "source": [
    "salary_cr['quit_rate'] = salary_cr['quit_yes']/(salary_cr['quit_no'] + salary_cr['quit_yes'])"
   ]
  },
  {
   "cell_type": "code",
   "execution_count": 91,
   "metadata": {
    "collapsed": false
   },
   "outputs": [
    {
     "data": {
      "text/html": [
       "<div>\n",
       "<table border=\"1\" class=\"dataframe\">\n",
       "  <thead>\n",
       "    <tr style=\"text-align: right;\">\n",
       "      <th></th>\n",
       "      <th>group</th>\n",
       "      <th>quit_no</th>\n",
       "      <th>quit_yes</th>\n",
       "      <th>quit_rate</th>\n",
       "    </tr>\n",
       "  </thead>\n",
       "  <tbody>\n",
       "    <tr>\n",
       "      <th>0</th>\n",
       "      <td>17000</td>\n",
       "      <td>50</td>\n",
       "      <td>43</td>\n",
       "      <td>0.462366</td>\n",
       "    </tr>\n",
       "    <tr>\n",
       "      <th>1</th>\n",
       "      <td>22000</td>\n",
       "      <td>281</td>\n",
       "      <td>263</td>\n",
       "      <td>0.483456</td>\n",
       "    </tr>\n",
       "    <tr>\n",
       "      <th>2</th>\n",
       "      <td>27000</td>\n",
       "      <td>248</td>\n",
       "      <td>240</td>\n",
       "      <td>0.491803</td>\n",
       "    </tr>\n",
       "  </tbody>\n",
       "</table>\n",
       "</div>"
      ],
      "text/plain": [
       "   group  quit_no  quit_yes  quit_rate\n",
       "0  17000       50        43   0.462366\n",
       "1  22000      281       263   0.483456\n",
       "2  27000      248       240   0.491803"
      ]
     },
     "execution_count": 91,
     "metadata": {},
     "output_type": "execute_result"
    }
   ],
   "source": [
    "salary_cr.head(3)"
   ]
  },
  {
   "cell_type": "code",
   "execution_count": 92,
   "metadata": {
    "collapsed": false
   },
   "outputs": [
    {
     "data": {
      "text/plain": [
       "<matplotlib.axes._subplots.AxesSubplot at 0x11c988940>"
      ]
     },
     "execution_count": 92,
     "metadata": {},
     "output_type": "execute_result"
    },
    {
     "data": {
      "image/png": "[encoded data removed]",
      "text/plain": [
       "<matplotlib.figure.Figure at 0x11c682a20>"
      ]
     },
     "metadata": {},
     "output_type": "display_data"
    }
   ],
   "source": [
    "sns.lineplot(x = 'group', y = 'quit_rate', data = salary_cr)"
   ]
  },
  {
   "cell_type": "markdown",
   "metadata": {},
   "source": [
    "#### 5. Days Before Quit"
   ]
  },
  {
   "cell_type": "code",
   "execution_count": 93,
   "metadata": {
    "collapsed": false
   },
   "outputs": [
    {
     "data": {
      "text/html": [
       "<div>\n",
       "<table border=\"1\" class=\"dataframe\">\n",
       "  <thead>\n",
       "    <tr style=\"text-align: right;\">\n",
       "      <th></th>\n",
       "      <th>employee_id</th>\n",
       "      <th>company_id</th>\n",
       "      <th>dept</th>\n",
       "      <th>seniority</th>\n",
       "      <th>salary</th>\n",
       "      <th>join_date</th>\n",
       "      <th>quit_date</th>\n",
       "      <th>quit_flag</th>\n",
       "      <th>days_before_quit</th>\n",
       "    </tr>\n",
       "  </thead>\n",
       "  <tbody>\n",
       "    <tr>\n",
       "      <th>0</th>\n",
       "      <td>13021</td>\n",
       "      <td>7</td>\n",
       "      <td>customer_service</td>\n",
       "      <td>28</td>\n",
       "      <td>89000</td>\n",
       "      <td>2014-03-24</td>\n",
       "      <td>2015-10-30</td>\n",
       "      <td>Y</td>\n",
       "      <td>585</td>\n",
       "    </tr>\n",
       "    <tr>\n",
       "      <th>1</th>\n",
       "      <td>825355</td>\n",
       "      <td>7</td>\n",
       "      <td>marketing</td>\n",
       "      <td>20</td>\n",
       "      <td>183000</td>\n",
       "      <td>2013-04-29</td>\n",
       "      <td>2014-04-04</td>\n",
       "      <td>Y</td>\n",
       "      <td>340</td>\n",
       "    </tr>\n",
       "  </tbody>\n",
       "</table>\n",
       "</div>"
      ],
      "text/plain": [
       "   employee_id  company_id              dept  seniority  salary  join_date  \\\n",
       "0        13021           7  customer_service         28   89000 2014-03-24   \n",
       "1       825355           7         marketing         20  183000 2013-04-29   \n",
       "\n",
       "   quit_date quit_flag  days_before_quit  \n",
       "0 2015-10-30         Y               585  \n",
       "1 2014-04-04         Y               340  "
      ]
     },
     "execution_count": 93,
     "metadata": {},
     "output_type": "execute_result"
    }
   ],
   "source": [
    "df_all.head(2)"
   ]
  },
  {
   "cell_type": "code",
   "execution_count": 94,
   "metadata": {
    "collapsed": false
   },
   "outputs": [
    {
     "data": {
      "text/plain": [
       "<matplotlib.axes._subplots.AxesSubplot at 0x11ca08518>"
      ]
     },
     "execution_count": 94,
     "metadata": {},
     "output_type": "execute_result"
    },
    {
     "data": {
      "image/png": "[encoded data removed]",
      "text/plain": [
       "<matplotlib.figure.Figure at 0x11ca15be0>"
      ]
     },
     "metadata": {},
     "output_type": "display_data"
    }
   ],
   "source": [
    "sns.lineplot(x = 'days_before_quit', y = 'count', hue = 'quit_flag',\n",
    "            data = df_all.groupby(['days_before_quit','quit_flag']).size().reset_index(name = 'count'))"
   ]
  },
  {
   "cell_type": "markdown",
   "metadata": {},
   "source": [
    "### Model"
   ]
  },
  {
   "cell_type": "code",
   "execution_count": 204,
   "metadata": {
    "collapsed": false
   },
   "outputs": [
    {
     "data": {
      "text/html": [
       "<div>\n",
       "<table border=\"1\" class=\"dataframe\">\n",
       "  <thead>\n",
       "    <tr style=\"text-align: right;\">\n",
       "      <th></th>\n",
       "      <th>employee_id</th>\n",
       "      <th>company_id</th>\n",
       "      <th>dept</th>\n",
       "      <th>seniority</th>\n",
       "      <th>salary</th>\n",
       "      <th>join_date</th>\n",
       "      <th>quit_date</th>\n",
       "      <th>quit_flag</th>\n",
       "      <th>days_before_quit</th>\n",
       "      <th>date</th>\n",
       "      <th>duration</th>\n",
       "      <th>salary_group</th>\n",
       "    </tr>\n",
       "  </thead>\n",
       "  <tbody>\n",
       "    <tr>\n",
       "      <th>0</th>\n",
       "      <td>13021</td>\n",
       "      <td>7</td>\n",
       "      <td>customer_service</td>\n",
       "      <td>28</td>\n",
       "      <td>89000</td>\n",
       "      <td>2014-03-24</td>\n",
       "      <td>2015-10-30</td>\n",
       "      <td>Y</td>\n",
       "      <td>585</td>\n",
       "      <td>2011-01-24</td>\n",
       "      <td>1155</td>\n",
       "      <td>87000</td>\n",
       "    </tr>\n",
       "    <tr>\n",
       "      <th>1</th>\n",
       "      <td>825355</td>\n",
       "      <td>7</td>\n",
       "      <td>marketing</td>\n",
       "      <td>20</td>\n",
       "      <td>183000</td>\n",
       "      <td>2013-04-29</td>\n",
       "      <td>2014-04-04</td>\n",
       "      <td>Y</td>\n",
       "      <td>340</td>\n",
       "      <td>2011-01-24</td>\n",
       "      <td>826</td>\n",
       "      <td>182000</td>\n",
       "    </tr>\n",
       "    <tr>\n",
       "      <th>2</th>\n",
       "      <td>927315</td>\n",
       "      <td>4</td>\n",
       "      <td>marketing</td>\n",
       "      <td>14</td>\n",
       "      <td>101000</td>\n",
       "      <td>2014-10-13</td>\n",
       "      <td>NaT</td>\n",
       "      <td>N</td>\n",
       "      <td>NaN</td>\n",
       "      <td>2011-01-24</td>\n",
       "      <td>1358</td>\n",
       "      <td>97000</td>\n",
       "    </tr>\n",
       "  </tbody>\n",
       "</table>\n",
       "</div>"
      ],
      "text/plain": [
       "   employee_id  company_id              dept  seniority  salary  join_date  \\\n",
       "0        13021           7  customer_service         28   89000 2014-03-24   \n",
       "1       825355           7         marketing         20  183000 2013-04-29   \n",
       "2       927315           4         marketing         14  101000 2014-10-13   \n",
       "\n",
       "   quit_date quit_flag  days_before_quit       date  duration  salary_group  \n",
       "0 2015-10-30         Y               585 2011-01-24      1155         87000  \n",
       "1 2014-04-04         Y               340 2011-01-24       826        182000  \n",
       "2        NaT         N               NaN 2011-01-24      1358         97000  "
      ]
     },
     "execution_count": 204,
     "metadata": {},
     "output_type": "execute_result"
    }
   ],
   "source": [
    "df_all.head(3) "
   ]
  },
  {
   "cell_type": "code",
   "execution_count": 168,
   "metadata": {
    "collapsed": false
   },
   "outputs": [],
   "source": [
    "# add company's start time\n",
    "df_all = df_all.merge(df_all.groupby('company_id')['join_date'].min().reset_index(name = 'date'),\n",
    "                      how = 'left', on = 'company_id')"
   ]
  },
  {
   "cell_type": "code",
   "execution_count": 176,
   "metadata": {
    "collapsed": false
   },
   "outputs": [],
   "source": [
    "df_all['duration'] = (df_all['join_date'] - df_all['date'])\n",
    "# remove days in the value\n",
    "df_all['duration'] = df_all['duration'].dt.days"
   ]
  },
  {
   "cell_type": "code",
   "execution_count": 203,
   "metadata": {
    "collapsed": true
   },
   "outputs": [],
   "source": [
    "df_all['salary_group'] = ((df_all['salary'] - 17000)//5000)*5000  + 17000 "
   ]
  },
  {
   "cell_type": "code",
   "execution_count": 164,
   "metadata": {
    "collapsed": false
   },
   "outputs": [
    {
     "data": {
      "text/plain": [
       "quit_flag\n",
       "N    11192\n",
       "Y    13508\n",
       "dtype: int64"
      ]
     },
     "execution_count": 164,
     "metadata": {},
     "output_type": "execute_result"
    }
   ],
   "source": [
    "df_all.groupby('quit_flag').size()"
   ]
  },
  {
   "cell_type": "code",
   "execution_count": 205,
   "metadata": {
    "collapsed": false
   },
   "outputs": [],
   "source": [
    "df_x = df_all\n",
    "df_y = df_all.iloc[:,6:8]"
   ]
  },
  {
   "cell_type": "code",
   "execution_count": 206,
   "metadata": {
    "collapsed": false
   },
   "outputs": [],
   "source": [
    "from sklearn.cross_validation import train_test_split\n",
    "\n",
    "x_train, x_test, y_train, y_test = train_test_split(df_x, df_y, test_size = 0.33)"
   ]
  },
  {
   "cell_type": "code",
   "execution_count": 98,
   "metadata": {
    "collapsed": false
   },
   "outputs": [],
   "source": [
    "import h2o"
   ]
  },
  {
   "cell_type": "code",
   "execution_count": 99,
   "metadata": {
    "collapsed": true
   },
   "outputs": [],
   "source": [
    "from h2o.estimators import H2ORandomForestEstimator"
   ]
  },
  {
   "cell_type": "code",
   "execution_count": 100,
   "metadata": {
    "collapsed": false,
    "scrolled": true
   },
   "outputs": [
    {
     "name": "stdout",
     "output_type": "stream",
     "text": [
      "Checking whether there is an H2O instance running at http://localhost:54321 ..... not found.\n",
      "Attempting to start a local H2O server...\n",
      "  Java Version: java version \"1.8.0_60\"; Java(TM) SE Runtime Environment (build 1.8.0_60-b27); Java HotSpot(TM) 64-Bit Server VM (build 25.60-b23, mixed mode)\n",
      "  Starting server from /Users/shuyijiang1/anaconda/lib/python3.5/site-packages/h2o/backend/bin/h2o.jar\n",
      "  Ice root: /var/folders/gp/1ptpfy4531xgwm6dnckgbn640000gp/T/tmpnzsrxtc8\n",
      "  JVM stdout: /var/folders/gp/1ptpfy4531xgwm6dnckgbn640000gp/T/tmpnzsrxtc8/h2o_shuyijiang1_started_from_python.out\n",
      "  JVM stderr: /var/folders/gp/1ptpfy4531xgwm6dnckgbn640000gp/T/tmpnzsrxtc8/h2o_shuyijiang1_started_from_python.err\n",
      "  Server is running at http://127.0.0.1:54321\n",
      "Connecting to H2O server at http://127.0.0.1:54321 ... successful.\n"
     ]
    },
    {
     "data": {
      "text/html": [
       "<div style=\"overflow:auto\"><table style=\"width:50%\"><tr><td>H2O cluster uptime:</td>\n",
       "<td>02 secs</td></tr>\n",
       "<tr><td>H2O cluster timezone:</td>\n",
       "<td>America/New_York</td></tr>\n",
       "<tr><td>H2O data parsing timezone:</td>\n",
       "<td>UTC</td></tr>\n",
       "<tr><td>H2O cluster version:</td>\n",
       "<td>3.24.0.2</td></tr>\n",
       "<tr><td>H2O cluster version age:</td>\n",
       "<td>20 hours and 18 minutes </td></tr>\n",
       "<tr><td>H2O cluster name:</td>\n",
       "<td>H2O_from_python_shuyijiang1_dx1fw8</td></tr>\n",
       "<tr><td>H2O cluster total nodes:</td>\n",
       "<td>1</td></tr>\n",
       "<tr><td>H2O cluster free memory:</td>\n",
       "<td>1.778 Gb</td></tr>\n",
       "<tr><td>H2O cluster total cores:</td>\n",
       "<td>4</td></tr>\n",
       "<tr><td>H2O cluster allowed cores:</td>\n",
       "<td>4</td></tr>\n",
       "<tr><td>H2O cluster status:</td>\n",
       "<td>accepting new members, healthy</td></tr>\n",
       "<tr><td>H2O connection url:</td>\n",
       "<td>http://127.0.0.1:54321</td></tr>\n",
       "<tr><td>H2O connection proxy:</td>\n",
       "<td>None</td></tr>\n",
       "<tr><td>H2O internal security:</td>\n",
       "<td>False</td></tr>\n",
       "<tr><td>H2O API Extensions:</td>\n",
       "<td>Amazon S3, XGBoost, Algos, AutoML, Core V3, Core V4</td></tr>\n",
       "<tr><td>Python version:</td>\n",
       "<td>3.5.1 final</td></tr></table></div>"
      ],
      "text/plain": [
       "--------------------------  ---------------------------------------------------\n",
       "H2O cluster uptime:         02 secs\n",
       "H2O cluster timezone:       America/New_York\n",
       "H2O data parsing timezone:  UTC\n",
       "H2O cluster version:        3.24.0.2\n",
       "H2O cluster version age:    20 hours and 18 minutes\n",
       "H2O cluster name:           H2O_from_python_shuyijiang1_dx1fw8\n",
       "H2O cluster total nodes:    1\n",
       "H2O cluster free memory:    1.778 Gb\n",
       "H2O cluster total cores:    4\n",
       "H2O cluster allowed cores:  4\n",
       "H2O cluster status:         accepting new members, healthy\n",
       "H2O connection url:         http://127.0.0.1:54321\n",
       "H2O connection proxy:\n",
       "H2O internal security:      False\n",
       "H2O API Extensions:         Amazon S3, XGBoost, Algos, AutoML, Core V3, Core V4\n",
       "Python version:             3.5.1 final\n",
       "--------------------------  ---------------------------------------------------"
      ]
     },
     "metadata": {},
     "output_type": "display_data"
    }
   ],
   "source": [
    "h2o.init()"
   ]
  },
  {
   "cell_type": "code",
   "execution_count": 129,
   "metadata": {
    "collapsed": true
   },
   "outputs": [],
   "source": [
    "mod = h2o.estimators.random_forest.H2ORandomForestEstimator()"
   ]
  },
  {
   "cell_type": "code",
   "execution_count": 207,
   "metadata": {
    "collapsed": false
   },
   "outputs": [
    {
     "name": "stdout",
     "output_type": "stream",
     "text": [
      "Parse progress: |█████████████████████████████████████████████████████████| 100%\n"
     ]
    }
   ],
   "source": [
    "train_data = h2o.H2OFrame(x_train)"
   ]
  },
  {
   "cell_type": "code",
   "execution_count": 208,
   "metadata": {
    "collapsed": false
   },
   "outputs": [
    {
     "name": "stdout",
     "output_type": "stream",
     "text": [
      "Parse progress: |█████████████████████████████████████████████████████████| 100%\n"
     ]
    }
   ],
   "source": [
    "test_data = h2o.H2OFrame(x_test)"
   ]
  },
  {
   "cell_type": "code",
   "execution_count": 187,
   "metadata": {
    "collapsed": false,
    "scrolled": true
   },
   "outputs": [
    {
     "data": {
      "text/plain": [
       "\"\\ntrain_data['quit_flag']\\ntrain_data[0:6]\\n\""
      ]
     },
     "execution_count": 187,
     "metadata": {},
     "output_type": "execute_result"
    }
   ],
   "source": [
    "\"\"\"\n",
    "train_data['quit_flag']\n",
    "train_data[0:6]\n",
    "\"\"\""
   ]
  },
  {
   "cell_type": "code",
   "execution_count": 209,
   "metadata": {
    "collapsed": false
   },
   "outputs": [
    {
     "data": {
      "text/plain": [
       "['employee_id',\n",
       " 'company_id',\n",
       " 'dept',\n",
       " 'seniority',\n",
       " 'salary',\n",
       " 'join_date',\n",
       " 'quit_date',\n",
       " 'quit_flag',\n",
       " 'days_before_quit',\n",
       " 'date',\n",
       " 'duration',\n",
       " 'salary_group']"
      ]
     },
     "execution_count": 209,
     "metadata": {},
     "output_type": "execute_result"
    }
   ],
   "source": [
    "train_data.names"
   ]
  },
  {
   "cell_type": "code",
   "execution_count": 210,
   "metadata": {
    "collapsed": false,
    "scrolled": true
   },
   "outputs": [
    {
     "name": "stdout",
     "output_type": "stream",
     "text": [
      "drf Model Build progress: |███████████████████████████████████████████████| 100%\n"
     ]
    }
   ],
   "source": [
    "#clf.train(X, y, training_frame=train_data)\n",
    "#col = ['employee_id','company_id','dept','seniority','salary','join_date']\n",
    "col2 = ['company_id','dept','seniority','salary_group']\n",
    "mod.train(x = col2, y = 'quit_flag', training_frame  = train_data)"
   ]
  },
  {
   "cell_type": "code",
   "execution_count": 211,
   "metadata": {
    "collapsed": false,
    "scrolled": true
   },
   "outputs": [
    {
     "name": "stdout",
     "output_type": "stream",
     "text": [
      "\n",
      "ModelMetricsBinomial: drf\n",
      "** Reported on train data. **\n",
      "\n",
      "MSE: 0.2974561727225799\n",
      "RMSE: 0.5453954278526544\n",
      "LogLoss: 0.9537642358132287\n",
      "Mean Per-Class Error: 0.49123006077015496\n",
      "AUC: 0.5028224218588938\n",
      "pr_auc: 0.5443691493237923\n",
      "Gini: 0.005644843717787618\n",
      "Could not find exact threshold 0.0; using closest threshold found 0.0.\n",
      "Confusion Matrix (Act/Pred) for max f1 @ threshold = 0.0: \n"
     ]
    },
    {
     "data": {
      "text/html": [
       "<div style=\"overflow:auto\"><table style=\"width:50%\"><tr><td><b></b></td>\n",
       "<td><b>N</b></td>\n",
       "<td><b>Y</b></td>\n",
       "<td><b>Error</b></td>\n",
       "<td><b>Rate</b></td></tr>\n",
       "<tr><td>N</td>\n",
       "<td>0.0</td>\n",
       "<td>7453.0</td>\n",
       "<td>1.0</td>\n",
       "<td> (7453.0/7453.0)</td></tr>\n",
       "<tr><td>Y</td>\n",
       "<td>0.0</td>\n",
       "<td>9096.0</td>\n",
       "<td>0.0</td>\n",
       "<td> (0.0/9096.0)</td></tr>\n",
       "<tr><td>Total</td>\n",
       "<td>0.0</td>\n",
       "<td>16549.0</td>\n",
       "<td>0.4504</td>\n",
       "<td> (7453.0/16549.0)</td></tr></table></div>"
      ],
      "text/plain": [
       "       N    Y      Error    Rate\n",
       "-----  ---  -----  -------  ----------------\n",
       "N      0    7453   1        (7453.0/7453.0)\n",
       "Y      0    9096   0        (0.0/9096.0)\n",
       "Total  0    16549  0.4504   (7453.0/16549.0)"
      ]
     },
     "metadata": {},
     "output_type": "display_data"
    },
    {
     "name": "stdout",
     "output_type": "stream",
     "text": [
      "Maximum Metrics: Maximum metrics at their respective thresholds\n",
      "\n"
     ]
    },
    {
     "data": {
      "text/html": [
       "<div style=\"overflow:auto\"><table style=\"width:50%\"><tr><td><b>metric</b></td>\n",
       "<td><b>threshold</b></td>\n",
       "<td><b>value</b></td>\n",
       "<td><b>idx</b></td></tr>\n",
       "<tr><td>max f1</td>\n",
       "<td>0.0</td>\n",
       "<td>0.7093780</td>\n",
       "<td>399.0</td></tr>\n",
       "<tr><td>max f2</td>\n",
       "<td>0.0</td>\n",
       "<td>0.8591994</td>\n",
       "<td>399.0</td></tr>\n",
       "<tr><td>max f0point5</td>\n",
       "<td>0.0724308</td>\n",
       "<td>0.6049632</td>\n",
       "<td>381.0</td></tr>\n",
       "<tr><td>max accuracy</td>\n",
       "<td>0.1084182</td>\n",
       "<td>0.5521180</td>\n",
       "<td>372.0</td></tr>\n",
       "<tr><td>max precision</td>\n",
       "<td>0.5311424</td>\n",
       "<td>0.5573860</td>\n",
       "<td>198.0</td></tr>\n",
       "<tr><td>max recall</td>\n",
       "<td>0.0</td>\n",
       "<td>1.0</td>\n",
       "<td>399.0</td></tr>\n",
       "<tr><td>max specificity</td>\n",
       "<td>1.0</td>\n",
       "<td>0.9950356</td>\n",
       "<td>0.0</td></tr>\n",
       "<tr><td>max absolute_mcc</td>\n",
       "<td>0.1084182</td>\n",
       "<td>0.0325479</td>\n",
       "<td>372.0</td></tr>\n",
       "<tr><td>max min_per_class_accuracy</td>\n",
       "<td>0.5638740</td>\n",
       "<td>0.5022139</td>\n",
       "<td>182.0</td></tr>\n",
       "<tr><td>max mean_per_class_accuracy</td>\n",
       "<td>0.5187727</td>\n",
       "<td>0.5087699</td>\n",
       "<td>204.0</td></tr></table></div>"
      ],
      "text/plain": [
       "metric                       threshold    value      idx\n",
       "---------------------------  -----------  ---------  -----\n",
       "max f1                       0            0.709378   399\n",
       "max f2                       0            0.859199   399\n",
       "max f0point5                 0.0724308    0.604963   381\n",
       "max accuracy                 0.108418     0.552118   372\n",
       "max precision                0.531142     0.557386   198\n",
       "max recall                   0            1          399\n",
       "max specificity              1            0.995036   0\n",
       "max absolute_mcc             0.108418     0.0325479  372\n",
       "max min_per_class_accuracy   0.563874     0.502214   182\n",
       "max mean_per_class_accuracy  0.518773     0.50877    204"
      ]
     },
     "metadata": {},
     "output_type": "display_data"
    },
    {
     "name": "stdout",
     "output_type": "stream",
     "text": [
      "Gains/Lift Table: Avg response rate: 54.96 %, avg score: 54.92 %\n",
      "\n"
     ]
    },
    {
     "data": {
      "text/html": [
       "<div style=\"overflow:auto\"><table style=\"width:50%\"><tr><td><b></b></td>\n",
       "<td><b>group</b></td>\n",
       "<td><b>cumulative_data_fraction</b></td>\n",
       "<td><b>lower_threshold</b></td>\n",
       "<td><b>lift</b></td>\n",
       "<td><b>cumulative_lift</b></td>\n",
       "<td><b>response_rate</b></td>\n",
       "<td><b>score</b></td>\n",
       "<td><b>cumulative_response_rate</b></td>\n",
       "<td><b>cumulative_score</b></td>\n",
       "<td><b>capture_rate</b></td>\n",
       "<td><b>cumulative_capture_rate</b></td>\n",
       "<td><b>gain</b></td>\n",
       "<td><b>cumulative_gain</b></td></tr>\n",
       "<tr><td></td>\n",
       "<td>1</td>\n",
       "<td>0.0100308</td>\n",
       "<td>0.9717127</td>\n",
       "<td>0.9206456</td>\n",
       "<td>0.9206456</td>\n",
       "<td>0.5060241</td>\n",
       "<td>0.9896854</td>\n",
       "<td>0.5060241</td>\n",
       "<td>0.9896854</td>\n",
       "<td>0.0092348</td>\n",
       "<td>0.0092348</td>\n",
       "<td>-7.9354357</td>\n",
       "<td>-7.9354357</td></tr>\n",
       "<tr><td></td>\n",
       "<td>2</td>\n",
       "<td>0.0200012</td>\n",
       "<td>0.9502328</td>\n",
       "<td>0.9703313</td>\n",
       "<td>0.9454134</td>\n",
       "<td>0.5333333</td>\n",
       "<td>0.9604404</td>\n",
       "<td>0.5196375</td>\n",
       "<td>0.9751071</td>\n",
       "<td>0.0096746</td>\n",
       "<td>0.0189094</td>\n",
       "<td>-2.9668719</td>\n",
       "<td>-5.4586592</td></tr>\n",
       "<tr><td></td>\n",
       "<td>3</td>\n",
       "<td>0.0304550</td>\n",
       "<td>0.9333333</td>\n",
       "<td>0.9885600</td>\n",
       "<td>0.9602237</td>\n",
       "<td>0.5433526</td>\n",
       "<td>0.9414232</td>\n",
       "<td>0.5277778</td>\n",
       "<td>0.9635449</td>\n",
       "<td>0.0103342</td>\n",
       "<td>0.0292436</td>\n",
       "<td>-1.1439952</td>\n",
       "<td>-3.9776336</td></tr>\n",
       "<tr><td></td>\n",
       "<td>4</td>\n",
       "<td>0.0400024</td>\n",
       "<td>0.9175943</td>\n",
       "<td>0.9442306</td>\n",
       "<td>0.9564066</td>\n",
       "<td>0.5189873</td>\n",
       "<td>0.9259424</td>\n",
       "<td>0.5256798</td>\n",
       "<td>0.9545703</td>\n",
       "<td>0.0090150</td>\n",
       "<td>0.0382586</td>\n",
       "<td>-5.5769402</td>\n",
       "<td>-4.3593412</td></tr>\n",
       "<tr><td></td>\n",
       "<td>5</td>\n",
       "<td>0.0500937</td>\n",
       "<td>0.9047619</td>\n",
       "<td>0.9260272</td>\n",
       "<td>0.9502867</td>\n",
       "<td>0.5089820</td>\n",
       "<td>0.9104935</td>\n",
       "<td>0.5223160</td>\n",
       "<td>0.9456911</td>\n",
       "<td>0.0093448</td>\n",
       "<td>0.0476033</td>\n",
       "<td>-7.3972767</td>\n",
       "<td>-4.9713258</td></tr>\n",
       "<tr><td></td>\n",
       "<td>6</td>\n",
       "<td>0.1000060</td>\n",
       "<td>0.8470180</td>\n",
       "<td>0.9691565</td>\n",
       "<td>0.9597045</td>\n",
       "<td>0.5326877</td>\n",
       "<td>0.8757778</td>\n",
       "<td>0.5274924</td>\n",
       "<td>0.9107978</td>\n",
       "<td>0.0483729</td>\n",
       "<td>0.0959763</td>\n",
       "<td>-3.0843454</td>\n",
       "<td>-4.0295459</td></tr>\n",
       "<tr><td></td>\n",
       "<td>7</td>\n",
       "<td>0.1500393</td>\n",
       "<td>0.7990144</td>\n",
       "<td>0.9558290</td>\n",
       "<td>0.9584122</td>\n",
       "<td>0.5253623</td>\n",
       "<td>0.8214321</td>\n",
       "<td>0.5267821</td>\n",
       "<td>0.8809973</td>\n",
       "<td>0.0478232</td>\n",
       "<td>0.1437995</td>\n",
       "<td>-4.4170953</td>\n",
       "<td>-4.1587810</td></tr>\n",
       "<tr><td></td>\n",
       "<td>8</td>\n",
       "<td>0.2000121</td>\n",
       "<td>0.7543907</td>\n",
       "<td>1.0581832</td>\n",
       "<td>0.9833399</td>\n",
       "<td>0.5816203</td>\n",
       "<td>0.7760383</td>\n",
       "<td>0.5404834</td>\n",
       "<td>0.8547734</td>\n",
       "<td>0.0528804</td>\n",
       "<td>0.1966799</td>\n",
       "<td>5.8183222</td>\n",
       "<td>-1.6660124</td></tr>\n",
       "<tr><td></td>\n",
       "<td>9</td>\n",
       "<td>0.3000181</td>\n",
       "<td>0.6834422</td>\n",
       "<td>1.0157698</td>\n",
       "<td>0.9941498</td>\n",
       "<td>0.5583082</td>\n",
       "<td>0.7177452</td>\n",
       "<td>0.5464250</td>\n",
       "<td>0.8090973</td>\n",
       "<td>0.1015831</td>\n",
       "<td>0.2982630</td>\n",
       "<td>1.5769755</td>\n",
       "<td>-0.5850164</td></tr>\n",
       "<tr><td></td>\n",
       "<td>10</td>\n",
       "<td>0.4000242</td>\n",
       "<td>0.6234378</td>\n",
       "<td>1.0223657</td>\n",
       "<td>1.0012038</td>\n",
       "<td>0.5619335</td>\n",
       "<td>0.6527369</td>\n",
       "<td>0.5503021</td>\n",
       "<td>0.7700072</td>\n",
       "<td>0.1022427</td>\n",
       "<td>0.4005057</td>\n",
       "<td>2.2365663</td>\n",
       "<td>0.1203793</td></tr>\n",
       "<tr><td></td>\n",
       "<td>11</td>\n",
       "<td>0.5000302</td>\n",
       "<td>0.5632284</td>\n",
       "<td>1.0179684</td>\n",
       "<td>1.0045567</td>\n",
       "<td>0.5595166</td>\n",
       "<td>0.5926099</td>\n",
       "<td>0.5521450</td>\n",
       "<td>0.7345277</td>\n",
       "<td>0.1018030</td>\n",
       "<td>0.5023087</td>\n",
       "<td>1.7968391</td>\n",
       "<td>0.4556712</td></tr>\n",
       "<tr><td></td>\n",
       "<td>12</td>\n",
       "<td>0.5999758</td>\n",
       "<td>0.5001047</td>\n",
       "<td>1.0306837</td>\n",
       "<td>1.0089090</td>\n",
       "<td>0.5665054</td>\n",
       "<td>0.5317872</td>\n",
       "<td>0.5545372</td>\n",
       "<td>0.7007547</td>\n",
       "<td>0.1030123</td>\n",
       "<td>0.6053210</td>\n",
       "<td>3.0683658</td>\n",
       "<td>0.8909010</td></tr>\n",
       "<tr><td></td>\n",
       "<td>13</td>\n",
       "<td>0.6999819</td>\n",
       "<td>0.4354266</td>\n",
       "<td>0.9926841</td>\n",
       "<td>1.0065910</td>\n",
       "<td>0.5456193</td>\n",
       "<td>0.4697980</td>\n",
       "<td>0.5532631</td>\n",
       "<td>0.6677580</td>\n",
       "<td>0.0992744</td>\n",
       "<td>0.7045954</td>\n",
       "<td>-0.7315921</td>\n",
       "<td>0.6590963</td></tr>\n",
       "<tr><td></td>\n",
       "<td>14</td>\n",
       "<td>0.7999879</td>\n",
       "<td>0.3481116</td>\n",
       "<td>0.9937834</td>\n",
       "<td>1.0049899</td>\n",
       "<td>0.5462236</td>\n",
       "<td>0.3931358</td>\n",
       "<td>0.5523831</td>\n",
       "<td>0.6334276</td>\n",
       "<td>0.0993843</td>\n",
       "<td>0.8039798</td>\n",
       "<td>-0.6216603</td>\n",
       "<td>0.4989896</td></tr>\n",
       "<tr><td></td>\n",
       "<td>15</td>\n",
       "<td>0.9000544</td>\n",
       "<td>0.2291667</td>\n",
       "<td>1.0162550</td>\n",
       "<td>1.0062423</td>\n",
       "<td>0.5585749</td>\n",
       "<td>0.2925312</td>\n",
       "<td>0.5530715</td>\n",
       "<td>0.5955274</td>\n",
       "<td>0.1016931</td>\n",
       "<td>0.9056728</td>\n",
       "<td>1.6255022</td>\n",
       "<td>0.6242333</td></tr>\n",
       "<tr><td></td>\n",
       "<td>16</td>\n",
       "<td>1.0</td>\n",
       "<td>0.0</td>\n",
       "<td>0.9437850</td>\n",
       "<td>1.0</td>\n",
       "<td>0.5187424</td>\n",
       "<td>0.1316546</td>\n",
       "<td>0.5496405</td>\n",
       "<td>0.5491653</td>\n",
       "<td>0.0943272</td>\n",
       "<td>1.0</td>\n",
       "<td>-5.6214965</td>\n",
       "<td>0.0</td></tr></table></div>"
      ],
      "text/plain": [
       "    group    cumulative_data_fraction    lower_threshold    lift      cumulative_lift    response_rate    score     cumulative_response_rate    cumulative_score    capture_rate    cumulative_capture_rate    gain       cumulative_gain\n",
       "--  -------  --------------------------  -----------------  --------  -----------------  ---------------  --------  --------------------------  ------------------  --------------  -------------------------  ---------  -----------------\n",
       "    1        0.0100308                   0.971713           0.920646  0.920646           0.506024         0.989685  0.506024                    0.989685            0.00923483      0.00923483                 -7.93544   -7.93544\n",
       "    2        0.0200012                   0.950233           0.970331  0.945413           0.533333         0.96044   0.519637                    0.975107            0.00967458      0.0189094                  -2.96687   -5.45866\n",
       "    3        0.030455                    0.933333           0.98856   0.960224           0.543353         0.941423  0.527778                    0.963545            0.0103342       0.0292436                  -1.144     -3.97763\n",
       "    4        0.0400024                   0.917594           0.944231  0.956407           0.518987         0.925942  0.52568                     0.95457             0.00901495      0.0382586                  -5.57694   -4.35934\n",
       "    5        0.0500937                   0.904762           0.926027  0.950287           0.508982         0.910494  0.522316                    0.945691            0.00934477      0.0476033                  -7.39728   -4.97133\n",
       "    6        0.100006                    0.847018           0.969157  0.959705           0.532688         0.875778  0.527492                    0.910798            0.0483729       0.0959763                  -3.08435   -4.02955\n",
       "    7        0.150039                    0.799014           0.955829  0.958412           0.525362         0.821432  0.526782                    0.880997            0.0478232       0.143799                   -4.4171    -4.15878\n",
       "    8        0.200012                    0.754391           1.05818   0.98334            0.58162          0.776038  0.540483                    0.854773            0.0528804       0.19668                    5.81832    -1.66601\n",
       "    9        0.300018                    0.683442           1.01577   0.99415            0.558308         0.717745  0.546425                    0.809097            0.101583        0.298263                   1.57698    -0.585016\n",
       "    10       0.400024                    0.623438           1.02237   1.0012             0.561934         0.652737  0.550302                    0.770007            0.102243        0.400506                   2.23657    0.120379\n",
       "    11       0.50003                     0.563228           1.01797   1.00456            0.559517         0.59261   0.552145                    0.734528            0.101803        0.502309                   1.79684    0.455671\n",
       "    12       0.599976                    0.500105           1.03068   1.00891            0.566505         0.531787  0.554537                    0.700755            0.103012        0.605321                   3.06837    0.890901\n",
       "    13       0.699982                    0.435427           0.992684  1.00659            0.545619         0.469798  0.553263                    0.667758            0.0992744       0.704595                   -0.731592  0.659096\n",
       "    14       0.799988                    0.348112           0.993783  1.00499            0.546224         0.393136  0.552383                    0.633428            0.0993843       0.80398                    -0.62166   0.49899\n",
       "    15       0.900054                    0.229167           1.01626   1.00624            0.558575         0.292531  0.553072                    0.595527            0.101693        0.905673                   1.6255     0.624233\n",
       "    16       1                           0                  0.943785  1                  0.518742         0.131655  0.54964                     0.549165            0.0943272       1                          -5.6215    0"
      ]
     },
     "metadata": {},
     "output_type": "display_data"
    },
    {
     "name": "stdout",
     "output_type": "stream",
     "text": [
      "\n"
     ]
    },
    {
     "data": {
      "text/plain": []
     },
     "execution_count": 211,
     "metadata": {},
     "output_type": "execute_result"
    }
   ],
   "source": [
    "mod.model_performance()"
   ]
  },
  {
   "cell_type": "code",
   "execution_count": 212,
   "metadata": {
    "collapsed": false
   },
   "outputs": [
    {
     "name": "stdout",
     "output_type": "stream",
     "text": [
      "drf prediction progress: |████████████████████████████████████████████████| 100%\n"
     ]
    }
   ],
   "source": [
    "pred = mod.predict(test_data)"
   ]
  },
  {
   "cell_type": "code",
   "execution_count": 213,
   "metadata": {
    "collapsed": false,
    "scrolled": true
   },
   "outputs": [
    {
     "name": "stdout",
     "output_type": "stream",
     "text": [
      "\n",
      "ModelMetricsBinomial: drf\n",
      "** Reported on test data. **\n",
      "\n",
      "MSE: 0.29446466543596844\n",
      "RMSE: 0.5426459853679638\n",
      "LogLoss: 0.8384376556684993\n",
      "Mean Per-Class Error: 0.48930049753680604\n",
      "AUC: 0.505965428478387\n",
      "pr_auc: 0.539138345416065\n",
      "Gini: 0.011930856956773983\n",
      "Confusion Matrix (Act/Pred) for max f1 @ threshold = 0.005397901892662049: \n"
     ]
    },
    {
     "data": {
      "text/html": [
       "<div style=\"overflow:auto\"><table style=\"width:50%\"><tr><td><b></b></td>\n",
       "<td><b>N</b></td>\n",
       "<td><b>Y</b></td>\n",
       "<td><b>Error</b></td>\n",
       "<td><b>Rate</b></td></tr>\n",
       "<tr><td>N</td>\n",
       "<td>0.0</td>\n",
       "<td>3739.0</td>\n",
       "<td>1.0</td>\n",
       "<td> (3739.0/3739.0)</td></tr>\n",
       "<tr><td>Y</td>\n",
       "<td>0.0</td>\n",
       "<td>4412.0</td>\n",
       "<td>0.0</td>\n",
       "<td> (0.0/4412.0)</td></tr>\n",
       "<tr><td>Total</td>\n",
       "<td>0.0</td>\n",
       "<td>8151.0</td>\n",
       "<td>0.4587</td>\n",
       "<td> (3739.0/8151.0)</td></tr></table></div>"
      ],
      "text/plain": [
       "       N    Y     Error    Rate\n",
       "-----  ---  ----  -------  ---------------\n",
       "N      0    3739  1        (3739.0/3739.0)\n",
       "Y      0    4412  0        (0.0/4412.0)\n",
       "Total  0    8151  0.4587   (3739.0/8151.0)"
      ]
     },
     "metadata": {},
     "output_type": "display_data"
    },
    {
     "name": "stdout",
     "output_type": "stream",
     "text": [
      "Maximum Metrics: Maximum metrics at their respective thresholds\n",
      "\n"
     ]
    },
    {
     "data": {
      "text/html": [
       "<div style=\"overflow:auto\"><table style=\"width:50%\"><tr><td><b>metric</b></td>\n",
       "<td><b>threshold</b></td>\n",
       "<td><b>value</b></td>\n",
       "<td><b>idx</b></td></tr>\n",
       "<tr><td>max f1</td>\n",
       "<td>0.0053979</td>\n",
       "<td>0.7023800</td>\n",
       "<td>399.0</td></tr>\n",
       "<tr><td>max f2</td>\n",
       "<td>0.0053979</td>\n",
       "<td>0.8550719</td>\n",
       "<td>399.0</td></tr>\n",
       "<tr><td>max f0point5</td>\n",
       "<td>0.0759524</td>\n",
       "<td>0.5974497</td>\n",
       "<td>382.0</td></tr>\n",
       "<tr><td>max accuracy</td>\n",
       "<td>0.1636302</td>\n",
       "<td>0.5450865</td>\n",
       "<td>355.0</td></tr>\n",
       "<tr><td>max precision</td>\n",
       "<td>0.9743125</td>\n",
       "<td>0.6333333</td>\n",
       "<td>5.0</td></tr>\n",
       "<tr><td>max recall</td>\n",
       "<td>0.0053979</td>\n",
       "<td>1.0</td>\n",
       "<td>399.0</td></tr>\n",
       "<tr><td>max specificity</td>\n",
       "<td>1.0</td>\n",
       "<td>0.9991976</td>\n",
       "<td>0.0</td></tr>\n",
       "<tr><td>max absolute_mcc</td>\n",
       "<td>0.0759524</td>\n",
       "<td>0.0375854</td>\n",
       "<td>382.0</td></tr>\n",
       "<tr><td>max min_per_class_accuracy</td>\n",
       "<td>0.5626946</td>\n",
       "<td>0.5022665</td>\n",
       "<td>185.0</td></tr>\n",
       "<tr><td>max mean_per_class_accuracy</td>\n",
       "<td>0.4840069</td>\n",
       "<td>0.5106995</td>\n",
       "<td>224.0</td></tr></table></div>"
      ],
      "text/plain": [
       "metric                       threshold    value      idx\n",
       "---------------------------  -----------  ---------  -----\n",
       "max f1                       0.0053979    0.70238    399\n",
       "max f2                       0.0053979    0.855072   399\n",
       "max f0point5                 0.0759524    0.59745    382\n",
       "max accuracy                 0.16363      0.545086   355\n",
       "max precision                0.974312     0.633333   5\n",
       "max recall                   0.0053979    1          399\n",
       "max specificity              1            0.999198   0\n",
       "max absolute_mcc             0.0759524    0.0375854  382\n",
       "max min_per_class_accuracy   0.562695     0.502267   185\n",
       "max mean_per_class_accuracy  0.484007     0.5107     224"
      ]
     },
     "metadata": {},
     "output_type": "display_data"
    },
    {
     "name": "stdout",
     "output_type": "stream",
     "text": [
      "Gains/Lift Table: Avg response rate: 54.13 %, avg score: 55.06 %\n",
      "\n"
     ]
    },
    {
     "data": {
      "text/html": [
       "<div style=\"overflow:auto\"><table style=\"width:50%\"><tr><td><b></b></td>\n",
       "<td><b>group</b></td>\n",
       "<td><b>cumulative_data_fraction</b></td>\n",
       "<td><b>lower_threshold</b></td>\n",
       "<td><b>lift</b></td>\n",
       "<td><b>cumulative_lift</b></td>\n",
       "<td><b>response_rate</b></td>\n",
       "<td><b>score</b></td>\n",
       "<td><b>cumulative_response_rate</b></td>\n",
       "<td><b>cumulative_score</b></td>\n",
       "<td><b>capture_rate</b></td>\n",
       "<td><b>cumulative_capture_rate</b></td>\n",
       "<td><b>gain</b></td>\n",
       "<td><b>cumulative_gain</b></td></tr>\n",
       "<tr><td></td>\n",
       "<td>1</td>\n",
       "<td>0.0101828</td>\n",
       "<td>0.9545742</td>\n",
       "<td>0.8235672</td>\n",
       "<td>0.8235672</td>\n",
       "<td>0.4457831</td>\n",
       "<td>0.9704617</td>\n",
       "<td>0.4457831</td>\n",
       "<td>0.9704617</td>\n",
       "<td>0.0083862</td>\n",
       "<td>0.0083862</td>\n",
       "<td>-17.6432839</td>\n",
       "<td>-17.6432839</td></tr>\n",
       "<tr><td></td>\n",
       "<td>2</td>\n",
       "<td>0.0207337</td>\n",
       "<td>0.9370919</td>\n",
       "<td>1.0526234</td>\n",
       "<td>0.9401283</td>\n",
       "<td>0.5697674</td>\n",
       "<td>0.9440144</td>\n",
       "<td>0.5088757</td>\n",
       "<td>0.9570033</td>\n",
       "<td>0.0111061</td>\n",
       "<td>0.0194923</td>\n",
       "<td>5.2623395</td>\n",
       "<td>-5.9871679</td></tr>\n",
       "<tr><td></td>\n",
       "<td>3</td>\n",
       "<td>0.0300577</td>\n",
       "<td>0.9223267</td>\n",
       "<td>1.0209655</td>\n",
       "<td>0.9652044</td>\n",
       "<td>0.5526316</td>\n",
       "<td>0.9299358</td>\n",
       "<td>0.5224490</td>\n",
       "<td>0.9486069</td>\n",
       "<td>0.0095195</td>\n",
       "<td>0.0290118</td>\n",
       "<td>2.0965549</td>\n",
       "<td>-3.4795641</td></tr>\n",
       "<tr><td></td>\n",
       "<td>4</td>\n",
       "<td>0.0404858</td>\n",
       "<td>0.91</td>\n",
       "<td>1.0215375</td>\n",
       "<td>0.9797144</td>\n",
       "<td>0.5529412</td>\n",
       "<td>0.9159044</td>\n",
       "<td>0.5303030</td>\n",
       "<td>0.9401835</td>\n",
       "<td>0.0106528</td>\n",
       "<td>0.0396646</td>\n",
       "<td>2.1537518</td>\n",
       "<td>-2.0285585</td></tr>\n",
       "<tr><td></td>\n",
       "<td>5</td>\n",
       "<td>0.0500552</td>\n",
       "<td>0.8975939</td>\n",
       "<td>0.8289891</td>\n",
       "<td>0.9508993</td>\n",
       "<td>0.4487179</td>\n",
       "<td>0.9032272</td>\n",
       "<td>0.5147059</td>\n",
       "<td>0.9331183</td>\n",
       "<td>0.0079329</td>\n",
       "<td>0.0475975</td>\n",
       "<td>-17.1010879</td>\n",
       "<td>-4.9100715</td></tr>\n",
       "<tr><td></td>\n",
       "<td>6</td>\n",
       "<td>0.1002331</td>\n",
       "<td>0.8426033</td>\n",
       "<td>0.9576084</td>\n",
       "<td>0.9542579</td>\n",
       "<td>0.5183374</td>\n",
       "<td>0.8696009</td>\n",
       "<td>0.5165239</td>\n",
       "<td>0.9013207</td>\n",
       "<td>0.0480508</td>\n",
       "<td>0.0956482</td>\n",
       "<td>-4.2391610</td>\n",
       "<td>-4.5742057</td></tr>\n",
       "<tr><td></td>\n",
       "<td>7</td>\n",
       "<td>0.1501656</td>\n",
       "<td>0.7951313</td>\n",
       "<td>0.9986278</td>\n",
       "<td>0.9690117</td>\n",
       "<td>0.5405405</td>\n",
       "<td>0.8182056</td>\n",
       "<td>0.5245098</td>\n",
       "<td>0.8736836</td>\n",
       "<td>0.0498640</td>\n",
       "<td>0.1455122</td>\n",
       "<td>-0.1372179</td>\n",
       "<td>-3.0988347</td></tr>\n",
       "<tr><td></td>\n",
       "<td>8</td>\n",
       "<td>0.2002208</td>\n",
       "<td>0.7536411</td>\n",
       "<td>0.9961802</td>\n",
       "<td>0.9758038</td>\n",
       "<td>0.5392157</td>\n",
       "<td>0.7730666</td>\n",
       "<td>0.5281863</td>\n",
       "<td>0.8485293</td>\n",
       "<td>0.0498640</td>\n",
       "<td>0.1953762</td>\n",
       "<td>-0.3819796</td>\n",
       "<td>-2.4196210</td></tr>\n",
       "<tr><td></td>\n",
       "<td>9</td>\n",
       "<td>0.3000859</td>\n",
       "<td>0.6847909</td>\n",
       "<td>1.0417504</td>\n",
       "<td>0.9977500</td>\n",
       "<td>0.5638821</td>\n",
       "<td>0.7185599</td>\n",
       "<td>0.5400654</td>\n",
       "<td>0.8052771</td>\n",
       "<td>0.1040345</td>\n",
       "<td>0.2994107</td>\n",
       "<td>4.1750386</td>\n",
       "<td>-0.2249959</td></tr>\n",
       "<tr><td></td>\n",
       "<td>10</td>\n",
       "<td>0.4000736</td>\n",
       "<td>0.6208656</td>\n",
       "<td>1.0427390</td>\n",
       "<td>1.0089938</td>\n",
       "<td>0.5644172</td>\n",
       "<td>0.6532318</td>\n",
       "<td>0.5461515</td>\n",
       "<td>0.7672774</td>\n",
       "<td>0.1042611</td>\n",
       "<td>0.4036718</td>\n",
       "<td>4.2738988</td>\n",
       "<td>0.8993829</td></tr>\n",
       "<tr><td></td>\n",
       "<td>11</td>\n",
       "<td>0.5001840</td>\n",
       "<td>0.5610769</td>\n",
       "<td>0.9939162</td>\n",
       "<td>1.0059761</td>\n",
       "<td>0.5379902</td>\n",
       "<td>0.5913919</td>\n",
       "<td>0.5445180</td>\n",
       "<td>0.7320744</td>\n",
       "<td>0.0995014</td>\n",
       "<td>0.5031732</td>\n",
       "<td>-0.6083842</td>\n",
       "<td>0.5976076</td></tr>\n",
       "<tr><td></td>\n",
       "<td>12</td>\n",
       "<td>0.6000491</td>\n",
       "<td>0.4992711</td>\n",
       "<td>1.0599073</td>\n",
       "<td>1.0149517</td>\n",
       "<td>0.5737101</td>\n",
       "<td>0.5314507</td>\n",
       "<td>0.5493764</td>\n",
       "<td>0.6986850</td>\n",
       "<td>0.1058477</td>\n",
       "<td>0.6090209</td>\n",
       "<td>5.9907255</td>\n",
       "<td>1.4951741</td></tr>\n",
       "<tr><td></td>\n",
       "<td>13</td>\n",
       "<td>0.7000368</td>\n",
       "<td>0.4399343</td>\n",
       "<td>0.9838016</td>\n",
       "<td>1.0105025</td>\n",
       "<td>0.5325153</td>\n",
       "<td>0.4704990</td>\n",
       "<td>0.5469681</td>\n",
       "<td>0.6660927</td>\n",
       "<td>0.0983681</td>\n",
       "<td>0.7073889</td>\n",
       "<td>-1.6198433</td>\n",
       "<td>1.0502496</td></tr>\n",
       "<tr><td></td>\n",
       "<td>14</td>\n",
       "<td>0.8000245</td>\n",
       "<td>0.3542222</td>\n",
       "<td>0.9906020</td>\n",
       "<td>1.0080153</td>\n",
       "<td>0.5361963</td>\n",
       "<td>0.3985832</td>\n",
       "<td>0.5456218</td>\n",
       "<td>0.6326591</td>\n",
       "<td>0.0990481</td>\n",
       "<td>0.8064370</td>\n",
       "<td>-0.9397961</td>\n",
       "<td>0.8015321</td></tr>\n",
       "<tr><td></td>\n",
       "<td>15</td>\n",
       "<td>0.9000123</td>\n",
       "<td>0.2412726</td>\n",
       "<td>1.0110035</td>\n",
       "<td>1.0083473</td>\n",
       "<td>0.5472393</td>\n",
       "<td>0.3000605</td>\n",
       "<td>0.5458015</td>\n",
       "<td>0.5957088</td>\n",
       "<td>0.1010879</td>\n",
       "<td>0.9075249</td>\n",
       "<td>1.1003454</td>\n",
       "<td>0.8347290</td></tr>\n",
       "<tr><td></td>\n",
       "<td>16</td>\n",
       "<td>1.0</td>\n",
       "<td>0.0040000</td>\n",
       "<td>0.9248641</td>\n",
       "<td>1.0</td>\n",
       "<td>0.5006135</td>\n",
       "<td>0.1440809</td>\n",
       "<td>0.5412833</td>\n",
       "<td>0.5505515</td>\n",
       "<td>0.0924751</td>\n",
       "<td>1.0</td>\n",
       "<td>-7.5135854</td>\n",
       "<td>0.0</td></tr></table></div>"
      ],
      "text/plain": [
       "    group    cumulative_data_fraction    lower_threshold    lift      cumulative_lift    response_rate    score     cumulative_response_rate    cumulative_score    capture_rate    cumulative_capture_rate    gain       cumulative_gain\n",
       "--  -------  --------------------------  -----------------  --------  -----------------  ---------------  --------  --------------------------  ------------------  --------------  -------------------------  ---------  -----------------\n",
       "    1        0.0101828                   0.954574           0.823567  0.823567           0.445783         0.970462  0.445783                    0.970462            0.00838622      0.00838622                 -17.6433   -17.6433\n",
       "    2        0.0207337                   0.937092           1.05262   0.940128           0.569767         0.944014  0.508876                    0.957003            0.0111061       0.0194923                  5.26234    -5.98717\n",
       "    3        0.0300577                   0.922327           1.02097   0.965204           0.552632         0.929936  0.522449                    0.948607            0.00951949      0.0290118                  2.09655    -3.47956\n",
       "    4        0.0404858                   0.91               1.02154   0.979714           0.552941         0.915904  0.530303                    0.940184            0.0106528       0.0396646                  2.15375    -2.02856\n",
       "    5        0.0500552                   0.897594           0.828989  0.950899           0.448718         0.903227  0.514706                    0.933118            0.00793291      0.0475975                  -17.1011   -4.91007\n",
       "    6        0.100233                    0.842603           0.957608  0.954258           0.518337         0.869601  0.516524                    0.901321            0.0480508       0.0956482                  -4.23916   -4.57421\n",
       "    7        0.150166                    0.795131           0.998628  0.969012           0.540541         0.818206  0.52451                     0.873684            0.049864        0.145512                   -0.137218  -3.09883\n",
       "    8        0.200221                    0.753641           0.99618   0.975804           0.539216         0.773067  0.528186                    0.848529            0.049864        0.195376                   -0.38198   -2.41962\n",
       "    9        0.300086                    0.684791           1.04175   0.99775            0.563882         0.71856   0.540065                    0.805277            0.104034        0.299411                   4.17504    -0.224996\n",
       "    10       0.400074                    0.620866           1.04274   1.00899            0.564417         0.653232  0.546151                    0.767277            0.104261        0.403672                   4.2739     0.899383\n",
       "    11       0.500184                    0.561077           0.993916  1.00598            0.53799          0.591392  0.544518                    0.732074            0.0995014       0.503173                   -0.608384  0.597608\n",
       "    12       0.600049                    0.499271           1.05991   1.01495            0.57371          0.531451  0.549376                    0.698685            0.105848        0.609021                   5.99073    1.49517\n",
       "    13       0.700037                    0.439934           0.983802  1.0105             0.532515         0.470499  0.546968                    0.666093            0.0983681       0.707389                   -1.61984   1.05025\n",
       "    14       0.800025                    0.354222           0.990602  1.00802            0.536196         0.398583  0.545622                    0.632659            0.0990481       0.806437                   -0.939796  0.801532\n",
       "    15       0.900012                    0.241273           1.011     1.00835            0.547239         0.300061  0.545802                    0.595709            0.101088        0.907525                   1.10035    0.834729\n",
       "    16       1                           0.004              0.924864  1                  0.500613         0.144081  0.541283                    0.550552            0.0924751       1                          -7.51359   0"
      ]
     },
     "metadata": {},
     "output_type": "display_data"
    },
    {
     "name": "stdout",
     "output_type": "stream",
     "text": [
      "\n"
     ]
    },
    {
     "data": {
      "text/plain": []
     },
     "execution_count": 213,
     "metadata": {},
     "output_type": "execute_result"
    }
   ],
   "source": [
    "mod.model_performance(test_data)"
   ]
  },
  {
   "cell_type": "code",
   "execution_count": 214,
   "metadata": {
    "collapsed": false
   },
   "outputs": [
    {
     "name": "stdout",
     "output_type": "stream",
     "text": [
      "Model Details\n",
      "=============\n",
      "H2ORandomForestEstimator :  Distributed Random Forest\n",
      "Model Key:  DRF_model_python_1555551409007_346\n",
      "\n",
      "\n",
      "ModelMetricsBinomial: drf\n",
      "** Reported on train data. **\n",
      "\n",
      "MSE: 0.2974561727225799\n",
      "RMSE: 0.5453954278526544\n",
      "LogLoss: 0.9537642358132287\n",
      "Mean Per-Class Error: 0.49123006077015496\n",
      "AUC: 0.5028224218588938\n",
      "pr_auc: 0.5443691493237923\n",
      "Gini: 0.005644843717787618\n",
      "Could not find exact threshold 0.0; using closest threshold found 0.0.\n",
      "Confusion Matrix (Act/Pred) for max f1 @ threshold = 0.0: \n"
     ]
    },
    {
     "data": {
      "text/html": [
       "<div style=\"overflow:auto\"><table style=\"width:50%\"><tr><td><b></b></td>\n",
       "<td><b>N</b></td>\n",
       "<td><b>Y</b></td>\n",
       "<td><b>Error</b></td>\n",
       "<td><b>Rate</b></td></tr>\n",
       "<tr><td>N</td>\n",
       "<td>0.0</td>\n",
       "<td>7453.0</td>\n",
       "<td>1.0</td>\n",
       "<td> (7453.0/7453.0)</td></tr>\n",
       "<tr><td>Y</td>\n",
       "<td>0.0</td>\n",
       "<td>9096.0</td>\n",
       "<td>0.0</td>\n",
       "<td> (0.0/9096.0)</td></tr>\n",
       "<tr><td>Total</td>\n",
       "<td>0.0</td>\n",
       "<td>16549.0</td>\n",
       "<td>0.4504</td>\n",
       "<td> (7453.0/16549.0)</td></tr></table></div>"
      ],
      "text/plain": [
       "       N    Y      Error    Rate\n",
       "-----  ---  -----  -------  ----------------\n",
       "N      0    7453   1        (7453.0/7453.0)\n",
       "Y      0    9096   0        (0.0/9096.0)\n",
       "Total  0    16549  0.4504   (7453.0/16549.0)"
      ]
     },
     "metadata": {},
     "output_type": "display_data"
    },
    {
     "name": "stdout",
     "output_type": "stream",
     "text": [
      "Maximum Metrics: Maximum metrics at their respective thresholds\n",
      "\n"
     ]
    },
    {
     "data": {
      "text/html": [
       "<div style=\"overflow:auto\"><table style=\"width:50%\"><tr><td><b>metric</b></td>\n",
       "<td><b>threshold</b></td>\n",
       "<td><b>value</b></td>\n",
       "<td><b>idx</b></td></tr>\n",
       "<tr><td>max f1</td>\n",
       "<td>0.0</td>\n",
       "<td>0.7093780</td>\n",
       "<td>399.0</td></tr>\n",
       "<tr><td>max f2</td>\n",
       "<td>0.0</td>\n",
       "<td>0.8591994</td>\n",
       "<td>399.0</td></tr>\n",
       "<tr><td>max f0point5</td>\n",
       "<td>0.0724308</td>\n",
       "<td>0.6049632</td>\n",
       "<td>381.0</td></tr>\n",
       "<tr><td>max accuracy</td>\n",
       "<td>0.1084182</td>\n",
       "<td>0.5521180</td>\n",
       "<td>372.0</td></tr>\n",
       "<tr><td>max precision</td>\n",
       "<td>0.5311424</td>\n",
       "<td>0.5573860</td>\n",
       "<td>198.0</td></tr>\n",
       "<tr><td>max recall</td>\n",
       "<td>0.0</td>\n",
       "<td>1.0</td>\n",
       "<td>399.0</td></tr>\n",
       "<tr><td>max specificity</td>\n",
       "<td>1.0</td>\n",
       "<td>0.9950356</td>\n",
       "<td>0.0</td></tr>\n",
       "<tr><td>max absolute_mcc</td>\n",
       "<td>0.1084182</td>\n",
       "<td>0.0325479</td>\n",
       "<td>372.0</td></tr>\n",
       "<tr><td>max min_per_class_accuracy</td>\n",
       "<td>0.5638740</td>\n",
       "<td>0.5022139</td>\n",
       "<td>182.0</td></tr>\n",
       "<tr><td>max mean_per_class_accuracy</td>\n",
       "<td>0.5187727</td>\n",
       "<td>0.5087699</td>\n",
       "<td>204.0</td></tr></table></div>"
      ],
      "text/plain": [
       "metric                       threshold    value      idx\n",
       "---------------------------  -----------  ---------  -----\n",
       "max f1                       0            0.709378   399\n",
       "max f2                       0            0.859199   399\n",
       "max f0point5                 0.0724308    0.604963   381\n",
       "max accuracy                 0.108418     0.552118   372\n",
       "max precision                0.531142     0.557386   198\n",
       "max recall                   0            1          399\n",
       "max specificity              1            0.995036   0\n",
       "max absolute_mcc             0.108418     0.0325479  372\n",
       "max min_per_class_accuracy   0.563874     0.502214   182\n",
       "max mean_per_class_accuracy  0.518773     0.50877    204"
      ]
     },
     "metadata": {},
     "output_type": "display_data"
    },
    {
     "name": "stdout",
     "output_type": "stream",
     "text": [
      "Gains/Lift Table: Avg response rate: 54.96 %, avg score: 54.92 %\n",
      "\n"
     ]
    },
    {
     "data": {
      "text/html": [
       "<div style=\"overflow:auto\"><table style=\"width:50%\"><tr><td><b></b></td>\n",
       "<td><b>group</b></td>\n",
       "<td><b>cumulative_data_fraction</b></td>\n",
       "<td><b>lower_threshold</b></td>\n",
       "<td><b>lift</b></td>\n",
       "<td><b>cumulative_lift</b></td>\n",
       "<td><b>response_rate</b></td>\n",
       "<td><b>score</b></td>\n",
       "<td><b>cumulative_response_rate</b></td>\n",
       "<td><b>cumulative_score</b></td>\n",
       "<td><b>capture_rate</b></td>\n",
       "<td><b>cumulative_capture_rate</b></td>\n",
       "<td><b>gain</b></td>\n",
       "<td><b>cumulative_gain</b></td></tr>\n",
       "<tr><td></td>\n",
       "<td>1</td>\n",
       "<td>0.0100308</td>\n",
       "<td>0.9717127</td>\n",
       "<td>0.9206456</td>\n",
       "<td>0.9206456</td>\n",
       "<td>0.5060241</td>\n",
       "<td>0.9896854</td>\n",
       "<td>0.5060241</td>\n",
       "<td>0.9896854</td>\n",
       "<td>0.0092348</td>\n",
       "<td>0.0092348</td>\n",
       "<td>-7.9354357</td>\n",
       "<td>-7.9354357</td></tr>\n",
       "<tr><td></td>\n",
       "<td>2</td>\n",
       "<td>0.0200012</td>\n",
       "<td>0.9502328</td>\n",
       "<td>0.9703313</td>\n",
       "<td>0.9454134</td>\n",
       "<td>0.5333333</td>\n",
       "<td>0.9604404</td>\n",
       "<td>0.5196375</td>\n",
       "<td>0.9751071</td>\n",
       "<td>0.0096746</td>\n",
       "<td>0.0189094</td>\n",
       "<td>-2.9668719</td>\n",
       "<td>-5.4586592</td></tr>\n",
       "<tr><td></td>\n",
       "<td>3</td>\n",
       "<td>0.0304550</td>\n",
       "<td>0.9333333</td>\n",
       "<td>0.9885600</td>\n",
       "<td>0.9602237</td>\n",
       "<td>0.5433526</td>\n",
       "<td>0.9414232</td>\n",
       "<td>0.5277778</td>\n",
       "<td>0.9635449</td>\n",
       "<td>0.0103342</td>\n",
       "<td>0.0292436</td>\n",
       "<td>-1.1439952</td>\n",
       "<td>-3.9776336</td></tr>\n",
       "<tr><td></td>\n",
       "<td>4</td>\n",
       "<td>0.0400024</td>\n",
       "<td>0.9175943</td>\n",
       "<td>0.9442306</td>\n",
       "<td>0.9564066</td>\n",
       "<td>0.5189873</td>\n",
       "<td>0.9259424</td>\n",
       "<td>0.5256798</td>\n",
       "<td>0.9545703</td>\n",
       "<td>0.0090150</td>\n",
       "<td>0.0382586</td>\n",
       "<td>-5.5769402</td>\n",
       "<td>-4.3593412</td></tr>\n",
       "<tr><td></td>\n",
       "<td>5</td>\n",
       "<td>0.0500937</td>\n",
       "<td>0.9047619</td>\n",
       "<td>0.9260272</td>\n",
       "<td>0.9502867</td>\n",
       "<td>0.5089820</td>\n",
       "<td>0.9104935</td>\n",
       "<td>0.5223160</td>\n",
       "<td>0.9456911</td>\n",
       "<td>0.0093448</td>\n",
       "<td>0.0476033</td>\n",
       "<td>-7.3972767</td>\n",
       "<td>-4.9713258</td></tr>\n",
       "<tr><td></td>\n",
       "<td>6</td>\n",
       "<td>0.1000060</td>\n",
       "<td>0.8470180</td>\n",
       "<td>0.9691565</td>\n",
       "<td>0.9597045</td>\n",
       "<td>0.5326877</td>\n",
       "<td>0.8757778</td>\n",
       "<td>0.5274924</td>\n",
       "<td>0.9107978</td>\n",
       "<td>0.0483729</td>\n",
       "<td>0.0959763</td>\n",
       "<td>-3.0843454</td>\n",
       "<td>-4.0295459</td></tr>\n",
       "<tr><td></td>\n",
       "<td>7</td>\n",
       "<td>0.1500393</td>\n",
       "<td>0.7990144</td>\n",
       "<td>0.9558290</td>\n",
       "<td>0.9584122</td>\n",
       "<td>0.5253623</td>\n",
       "<td>0.8214321</td>\n",
       "<td>0.5267821</td>\n",
       "<td>0.8809973</td>\n",
       "<td>0.0478232</td>\n",
       "<td>0.1437995</td>\n",
       "<td>-4.4170953</td>\n",
       "<td>-4.1587810</td></tr>\n",
       "<tr><td></td>\n",
       "<td>8</td>\n",
       "<td>0.2000121</td>\n",
       "<td>0.7543907</td>\n",
       "<td>1.0581832</td>\n",
       "<td>0.9833399</td>\n",
       "<td>0.5816203</td>\n",
       "<td>0.7760383</td>\n",
       "<td>0.5404834</td>\n",
       "<td>0.8547734</td>\n",
       "<td>0.0528804</td>\n",
       "<td>0.1966799</td>\n",
       "<td>5.8183222</td>\n",
       "<td>-1.6660124</td></tr>\n",
       "<tr><td></td>\n",
       "<td>9</td>\n",
       "<td>0.3000181</td>\n",
       "<td>0.6834422</td>\n",
       "<td>1.0157698</td>\n",
       "<td>0.9941498</td>\n",
       "<td>0.5583082</td>\n",
       "<td>0.7177452</td>\n",
       "<td>0.5464250</td>\n",
       "<td>0.8090973</td>\n",
       "<td>0.1015831</td>\n",
       "<td>0.2982630</td>\n",
       "<td>1.5769755</td>\n",
       "<td>-0.5850164</td></tr>\n",
       "<tr><td></td>\n",
       "<td>10</td>\n",
       "<td>0.4000242</td>\n",
       "<td>0.6234378</td>\n",
       "<td>1.0223657</td>\n",
       "<td>1.0012038</td>\n",
       "<td>0.5619335</td>\n",
       "<td>0.6527369</td>\n",
       "<td>0.5503021</td>\n",
       "<td>0.7700072</td>\n",
       "<td>0.1022427</td>\n",
       "<td>0.4005057</td>\n",
       "<td>2.2365663</td>\n",
       "<td>0.1203793</td></tr>\n",
       "<tr><td></td>\n",
       "<td>11</td>\n",
       "<td>0.5000302</td>\n",
       "<td>0.5632284</td>\n",
       "<td>1.0179684</td>\n",
       "<td>1.0045567</td>\n",
       "<td>0.5595166</td>\n",
       "<td>0.5926099</td>\n",
       "<td>0.5521450</td>\n",
       "<td>0.7345277</td>\n",
       "<td>0.1018030</td>\n",
       "<td>0.5023087</td>\n",
       "<td>1.7968391</td>\n",
       "<td>0.4556712</td></tr>\n",
       "<tr><td></td>\n",
       "<td>12</td>\n",
       "<td>0.5999758</td>\n",
       "<td>0.5001047</td>\n",
       "<td>1.0306837</td>\n",
       "<td>1.0089090</td>\n",
       "<td>0.5665054</td>\n",
       "<td>0.5317872</td>\n",
       "<td>0.5545372</td>\n",
       "<td>0.7007547</td>\n",
       "<td>0.1030123</td>\n",
       "<td>0.6053210</td>\n",
       "<td>3.0683658</td>\n",
       "<td>0.8909010</td></tr>\n",
       "<tr><td></td>\n",
       "<td>13</td>\n",
       "<td>0.6999819</td>\n",
       "<td>0.4354266</td>\n",
       "<td>0.9926841</td>\n",
       "<td>1.0065910</td>\n",
       "<td>0.5456193</td>\n",
       "<td>0.4697980</td>\n",
       "<td>0.5532631</td>\n",
       "<td>0.6677580</td>\n",
       "<td>0.0992744</td>\n",
       "<td>0.7045954</td>\n",
       "<td>-0.7315921</td>\n",
       "<td>0.6590963</td></tr>\n",
       "<tr><td></td>\n",
       "<td>14</td>\n",
       "<td>0.7999879</td>\n",
       "<td>0.3481116</td>\n",
       "<td>0.9937834</td>\n",
       "<td>1.0049899</td>\n",
       "<td>0.5462236</td>\n",
       "<td>0.3931358</td>\n",
       "<td>0.5523831</td>\n",
       "<td>0.6334276</td>\n",
       "<td>0.0993843</td>\n",
       "<td>0.8039798</td>\n",
       "<td>-0.6216603</td>\n",
       "<td>0.4989896</td></tr>\n",
       "<tr><td></td>\n",
       "<td>15</td>\n",
       "<td>0.9000544</td>\n",
       "<td>0.2291667</td>\n",
       "<td>1.0162550</td>\n",
       "<td>1.0062423</td>\n",
       "<td>0.5585749</td>\n",
       "<td>0.2925312</td>\n",
       "<td>0.5530715</td>\n",
       "<td>0.5955274</td>\n",
       "<td>0.1016931</td>\n",
       "<td>0.9056728</td>\n",
       "<td>1.6255022</td>\n",
       "<td>0.6242333</td></tr>\n",
       "<tr><td></td>\n",
       "<td>16</td>\n",
       "<td>1.0</td>\n",
       "<td>0.0</td>\n",
       "<td>0.9437850</td>\n",
       "<td>1.0</td>\n",
       "<td>0.5187424</td>\n",
       "<td>0.1316546</td>\n",
       "<td>0.5496405</td>\n",
       "<td>0.5491653</td>\n",
       "<td>0.0943272</td>\n",
       "<td>1.0</td>\n",
       "<td>-5.6214965</td>\n",
       "<td>0.0</td></tr></table></div>"
      ],
      "text/plain": [
       "    group    cumulative_data_fraction    lower_threshold    lift      cumulative_lift    response_rate    score     cumulative_response_rate    cumulative_score    capture_rate    cumulative_capture_rate    gain       cumulative_gain\n",
       "--  -------  --------------------------  -----------------  --------  -----------------  ---------------  --------  --------------------------  ------------------  --------------  -------------------------  ---------  -----------------\n",
       "    1        0.0100308                   0.971713           0.920646  0.920646           0.506024         0.989685  0.506024                    0.989685            0.00923483      0.00923483                 -7.93544   -7.93544\n",
       "    2        0.0200012                   0.950233           0.970331  0.945413           0.533333         0.96044   0.519637                    0.975107            0.00967458      0.0189094                  -2.96687   -5.45866\n",
       "    3        0.030455                    0.933333           0.98856   0.960224           0.543353         0.941423  0.527778                    0.963545            0.0103342       0.0292436                  -1.144     -3.97763\n",
       "    4        0.0400024                   0.917594           0.944231  0.956407           0.518987         0.925942  0.52568                     0.95457             0.00901495      0.0382586                  -5.57694   -4.35934\n",
       "    5        0.0500937                   0.904762           0.926027  0.950287           0.508982         0.910494  0.522316                    0.945691            0.00934477      0.0476033                  -7.39728   -4.97133\n",
       "    6        0.100006                    0.847018           0.969157  0.959705           0.532688         0.875778  0.527492                    0.910798            0.0483729       0.0959763                  -3.08435   -4.02955\n",
       "    7        0.150039                    0.799014           0.955829  0.958412           0.525362         0.821432  0.526782                    0.880997            0.0478232       0.143799                   -4.4171    -4.15878\n",
       "    8        0.200012                    0.754391           1.05818   0.98334            0.58162          0.776038  0.540483                    0.854773            0.0528804       0.19668                    5.81832    -1.66601\n",
       "    9        0.300018                    0.683442           1.01577   0.99415            0.558308         0.717745  0.546425                    0.809097            0.101583        0.298263                   1.57698    -0.585016\n",
       "    10       0.400024                    0.623438           1.02237   1.0012             0.561934         0.652737  0.550302                    0.770007            0.102243        0.400506                   2.23657    0.120379\n",
       "    11       0.50003                     0.563228           1.01797   1.00456            0.559517         0.59261   0.552145                    0.734528            0.101803        0.502309                   1.79684    0.455671\n",
       "    12       0.599976                    0.500105           1.03068   1.00891            0.566505         0.531787  0.554537                    0.700755            0.103012        0.605321                   3.06837    0.890901\n",
       "    13       0.699982                    0.435427           0.992684  1.00659            0.545619         0.469798  0.553263                    0.667758            0.0992744       0.704595                   -0.731592  0.659096\n",
       "    14       0.799988                    0.348112           0.993783  1.00499            0.546224         0.393136  0.552383                    0.633428            0.0993843       0.80398                    -0.62166   0.49899\n",
       "    15       0.900054                    0.229167           1.01626   1.00624            0.558575         0.292531  0.553072                    0.595527            0.101693        0.905673                   1.6255     0.624233\n",
       "    16       1                           0                  0.943785  1                  0.518742         0.131655  0.54964                     0.549165            0.0943272       1                          -5.6215    0"
      ]
     },
     "metadata": {},
     "output_type": "display_data"
    },
    {
     "name": "stdout",
     "output_type": "stream",
     "text": [
      "\n",
      "Scoring History: \n"
     ]
    },
    {
     "data": {
      "text/html": [
       "<div style=\"overflow:auto\"><table style=\"width:50%\"><tr><td><b></b></td>\n",
       "<td><b>timestamp</b></td>\n",
       "<td><b>duration</b></td>\n",
       "<td><b>number_of_trees</b></td>\n",
       "<td><b>training_rmse</b></td>\n",
       "<td><b>training_logloss</b></td>\n",
       "<td><b>training_auc</b></td>\n",
       "<td><b>training_pr_auc</b></td>\n",
       "<td><b>training_lift</b></td>\n",
       "<td><b>training_classification_error</b></td></tr>\n",
       "<tr><td></td>\n",
       "<td>2019-04-18 22:14:52</td>\n",
       "<td> 0.010 sec</td>\n",
       "<td>0.0</td>\n",
       "<td>nan</td>\n",
       "<td>nan</td>\n",
       "<td>nan</td>\n",
       "<td>nan</td>\n",
       "<td>nan</td>\n",
       "<td>nan</td></tr>\n",
       "<tr><td></td>\n",
       "<td>2019-04-18 22:14:52</td>\n",
       "<td> 0.108 sec</td>\n",
       "<td>1.0</td>\n",
       "<td>0.6096626</td>\n",
       "<td>8.0458992</td>\n",
       "<td>0.4983985</td>\n",
       "<td>0.4135867</td>\n",
       "<td>0.9803115</td>\n",
       "<td>0.4516076</td></tr>\n",
       "<tr><td></td>\n",
       "<td>2019-04-18 22:14:52</td>\n",
       "<td> 0.299 sec</td>\n",
       "<td>2.0</td>\n",
       "<td>0.6136982</td>\n",
       "<td>8.2542101</td>\n",
       "<td>0.4992366</td>\n",
       "<td>0.4087699</td>\n",
       "<td>0.9882916</td>\n",
       "<td>0.4514802</td></tr>\n",
       "<tr><td></td>\n",
       "<td>2019-04-18 22:14:52</td>\n",
       "<td> 0.482 sec</td>\n",
       "<td>3.0</td>\n",
       "<td>0.6083059</td>\n",
       "<td>7.5898111</td>\n",
       "<td>0.4986938</td>\n",
       "<td>0.4181926</td>\n",
       "<td>0.9933952</td>\n",
       "<td>0.4512371</td></tr>\n",
       "<tr><td></td>\n",
       "<td>2019-04-18 22:14:52</td>\n",
       "<td> 0.631 sec</td>\n",
       "<td>4.0</td>\n",
       "<td>0.5991961</td>\n",
       "<td>6.6855945</td>\n",
       "<td>0.5011248</td>\n",
       "<td>0.4327327</td>\n",
       "<td>0.9971849</td>\n",
       "<td>0.4505983</td></tr>\n",
       "<tr><td>---</td>\n",
       "<td>---</td>\n",
       "<td>---</td>\n",
       "<td>---</td>\n",
       "<td>---</td>\n",
       "<td>---</td>\n",
       "<td>---</td>\n",
       "<td>---</td>\n",
       "<td>---</td>\n",
       "<td>---</td></tr>\n",
       "<tr><td></td>\n",
       "<td>2019-04-18 22:14:56</td>\n",
       "<td> 3.858 sec</td>\n",
       "<td>44.0</td>\n",
       "<td>0.5463304</td>\n",
       "<td>1.0008789</td>\n",
       "<td>0.5025673</td>\n",
       "<td>0.5437707</td>\n",
       "<td>0.9535258</td>\n",
       "<td>0.4503595</td></tr>\n",
       "<tr><td></td>\n",
       "<td>2019-04-18 22:14:56</td>\n",
       "<td> 3.895 sec</td>\n",
       "<td>45.0</td>\n",
       "<td>0.5461000</td>\n",
       "<td>0.9920908</td>\n",
       "<td>0.5025617</td>\n",
       "<td>0.5438828</td>\n",
       "<td>0.9425658</td>\n",
       "<td>0.4503595</td></tr>\n",
       "<tr><td></td>\n",
       "<td>2019-04-18 22:14:56</td>\n",
       "<td> 3.932 sec</td>\n",
       "<td>46.0</td>\n",
       "<td>0.5457782</td>\n",
       "<td>0.9797163</td>\n",
       "<td>0.5027524</td>\n",
       "<td>0.5440727</td>\n",
       "<td>0.9425658</td>\n",
       "<td>0.4503595</td></tr>\n",
       "<tr><td></td>\n",
       "<td>2019-04-18 22:14:56</td>\n",
       "<td> 3.970 sec</td>\n",
       "<td>47.0</td>\n",
       "<td>0.5456708</td>\n",
       "<td>0.9738334</td>\n",
       "<td>0.5028712</td>\n",
       "<td>0.5440824</td>\n",
       "<td>0.9644859</td>\n",
       "<td>0.4503595</td></tr>\n",
       "<tr><td></td>\n",
       "<td>2019-04-18 22:14:56</td>\n",
       "<td> 4.099 sec</td>\n",
       "<td>50.0</td>\n",
       "<td>0.5453954</td>\n",
       "<td>0.9537642</td>\n",
       "<td>0.5028224</td>\n",
       "<td>0.5443691</td>\n",
       "<td>0.9206456</td>\n",
       "<td>0.4503595</td></tr></table></div>"
      ],
      "text/plain": [
       "     timestamp            duration    number_of_trees    training_rmse       training_logloss    training_auc         training_pr_auc      training_lift       training_classification_error\n",
       "---  -------------------  ----------  -----------------  ------------------  ------------------  -------------------  -------------------  ------------------  -------------------------------\n",
       "     2019-04-18 22:14:52  0.010 sec   0.0                nan                 nan                 nan                  nan                  nan                 nan\n",
       "     2019-04-18 22:14:52  0.108 sec   1.0                0.609662577525912   8.045899241129183   0.49839845124764776  0.41358670519302876  0.9803114635366238  0.45160761154855644\n",
       "     2019-04-18 22:14:52  0.299 sec   2.0                0.6136982205323253  8.25421013168355    0.4992365665354589   0.40876993877089074  0.9882915567282321  0.45148018063221274\n",
       "     2019-04-18 22:14:52  0.482 sec   3.0                0.6083059421315943  7.5898110808482     0.49869377491270656  0.4181926102112653   0.9933951825687292  0.451237146529563\n",
       "     2019-04-18 22:14:52  0.631 sec   4.0                0.599196084190239   6.685594461888161   0.5011248225263195   0.4327327077800255   0.9971848636852461  0.4505982661030307\n",
       "---  ---                  ---         ---                ---                 ---                 ---                  ---                  ---                 ---\n",
       "     2019-04-18 22:14:56  3.858 sec   44.0               0.546330426806421   1.0008788903137276  0.5025673198481814   0.5437706891796785   0.953525844804018   0.45035953834068526\n",
       "     2019-04-18 22:14:56  3.895 sec   45.0               0.5461000339525958  0.9920907932715961  0.5025617071319171   0.5438828386876586   0.9425657776223627  0.45035953834068526\n",
       "     2019-04-18 22:14:56  3.932 sec   46.0               0.5457781636347229  0.9797163427561751  0.5027523698495916   0.5440726957515546   0.9425657776223627  0.45035953834068526\n",
       "     2019-04-18 22:14:56  3.970 sec   47.0               0.5456707820897284  0.9738333809175305  0.5028712252012347   0.5440823843547098   0.9644859119856736  0.45035953834068526\n",
       "     2019-04-18 22:14:56  4.099 sec   50.0               0.5453954278526544  0.9537642358132287  0.5028224218588938   0.5443691493237923   0.920645643259052   0.45035953834068526"
      ]
     },
     "metadata": {},
     "output_type": "display_data"
    },
    {
     "name": "stdout",
     "output_type": "stream",
     "text": [
      "\n",
      "See the whole table with table.as_data_frame()\n",
      "Variable Importances: \n"
     ]
    },
    {
     "data": {
      "text/html": [
       "<div style=\"overflow:auto\"><table style=\"width:50%\"><tr><td><b>variable</b></td>\n",
       "<td><b>relative_importance</b></td>\n",
       "<td><b>scaled_importance</b></td>\n",
       "<td><b>percentage</b></td></tr>\n",
       "<tr><td>salary_group</td>\n",
       "<td>23328.4003906</td>\n",
       "<td>1.0</td>\n",
       "<td>0.3530383</td></tr>\n",
       "<tr><td>seniority</td>\n",
       "<td>22651.3085938</td>\n",
       "<td>0.9709756</td>\n",
       "<td>0.3427916</td></tr>\n",
       "<tr><td>company_id</td>\n",
       "<td>14680.0527344</td>\n",
       "<td>0.6292782</td>\n",
       "<td>0.2221593</td></tr>\n",
       "<tr><td>dept</td>\n",
       "<td>5419.1811523</td>\n",
       "<td>0.2322997</td>\n",
       "<td>0.0820107</td></tr></table></div>"
      ],
      "text/plain": [
       "variable      relative_importance    scaled_importance    percentage\n",
       "------------  ---------------------  -------------------  ------------\n",
       "salary_group  23328.4                1                    0.353038\n",
       "seniority     22651.3                0.970976             0.342792\n",
       "company_id    14680.1                0.629278             0.222159\n",
       "dept          5419.18                0.2323               0.0820107"
      ]
     },
     "metadata": {},
     "output_type": "display_data"
    },
    {
     "data": {
      "text/plain": [
       "<bound method ModelBase.varimp of >"
      ]
     },
     "execution_count": 214,
     "metadata": {},
     "output_type": "execute_result"
    }
   ],
   "source": [
    "mod.varimp"
   ]
  },
  {
   "cell_type": "markdown",
   "metadata": {},
   "source": [
    "#### sklearn"
   ]
  },
  {
   "cell_type": "code",
   "execution_count": null,
   "metadata": {
    "collapsed": true
   },
   "outputs": [],
   "source": [
    "\"\"\"\n",
    "sklearn doesn't accept categorical variables.\n",
    "Thus, one extra step to convert categorical to numerical values\n",
    "\"\"\"\n",
    "\n",
    "\n"
   ]
  }
 ],
 "metadata": {
  "kernelspec": {
   "display_name": "Python 3",
   "language": "python",
   "name": "python3"
  },
  "language_info": {
   "codemirror_mode": {
    "name": "ipython",
    "version": 3
   },
   "file_extension": ".py",
   "mimetype": "text/x-python",
   "name": "python",
   "nbconvert_exporter": "python",
   "pygments_lexer": "ipython3",
   "version": "3.5.1"
  }
 },
 "nbformat": 4,
 "nbformat_minor": 0
}
